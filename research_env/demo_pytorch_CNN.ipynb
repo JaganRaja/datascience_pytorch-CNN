{
  "cells": [
    {
      "cell_type": "code",
      "execution_count": 42,
      "metadata": {
        "id": "UWDs9N4Xu2hl"
      },
      "outputs": [],
      "source": [
        "#jk"
      ]
    },
    {
      "cell_type": "code",
      "execution_count": 43,
      "metadata": {
        "id": "XygB641UwP2A"
      },
      "outputs": [],
      "source": [
        "# modular coding of the above projects with MLflow\n",
        "### https://github.com/neerajbafila/pytorch-CNN\n",
        "\n",
        "import os\n",
        "ROOT = \"/content/drive/MyDrive/Colab Notebooks\"\n",
        "os.chdir(ROOT)"
      ]
    },
    {
      "cell_type": "code",
      "execution_count": 44,
      "metadata": {
        "colab": {
          "base_uri": "https://localhost:8080/"
        },
        "id": "8AfbHQOwx5wo",
        "outputId": "3dfafd88-3897-4f3d-cfa4-3f8943e34cba"
      },
      "outputs": [
        {
          "name": "stdout",
          "output_type": "stream",
          "text": [
            "/content/drive/MyDrive/Colab Notebooks\n"
          ]
        }
      ],
      "source": [
        "!pwd"
      ]
    },
    {
      "cell_type": "code",
      "execution_count": 45,
      "metadata": {
        "colab": {
          "base_uri": "https://localhost:8080/"
        },
        "id": "tByFWmUHx-QX",
        "outputId": "9b97e637-ed09-460c-f84a-0e425cdfc5a8"
      },
      "outputs": [
        {
          "name": "stdout",
          "output_type": "stream",
          "text": [
            " demo_df_keras.ipynb\t  dog_cat_classification   pytorch_basics.ipynb\n",
            " demo_pytorch_CNN.ipynb   FashionMNISTDir\t  'Untitled folder'\n"
          ]
        }
      ],
      "source": [
        "!ls"
      ]
    },
    {
      "cell_type": "code",
      "execution_count": 46,
      "metadata": {
        "id": "VKHvN6_Zu77U"
      },
      "outputs": [],
      "source": [
        "import os\n",
        "import numpy as np\n",
        "import matplotlib.pyplot as plt\n",
        "import seaborn as sns\n",
        "import pandas as pd\n",
        "import torch\n",
        "import torch.nn as nn\n",
        "from torch.utils.data import DataLoader\n",
        "from torchvision import transforms, datasets\n",
        "import torch.nn.functional as F\n",
        "from sklearn.metrics import confusion_matrix\n",
        "from tqdm import tqdm"
      ]
    },
    {
      "cell_type": "code",
      "execution_count": 47,
      "metadata": {
        "colab": {
          "base_uri": "https://localhost:8080/"
        },
        "id": "kW3-FCC-u-MF",
        "outputId": "770dfe7c-41a8-4aa2-e8b2-d8e4d3b7ec17"
      },
      "outputs": [
        {
          "name": "stdout",
          "output_type": "stream",
          "text": [
            "this notebook is using device: cuda\n"
          ]
        }
      ],
      "source": [
        "class Config:\n",
        "  def __init__(self):\n",
        "    self.ROOT_DATA_DIR = \"FashionMNISTDir\"\n",
        "    self.EPOCH = 10\n",
        "    self.BATCH_SIZE = 32\n",
        "    self.LEARNING_RATE = 0.01\n",
        "    self.IMAGE_SIZE = (28, 28)\n",
        "    self.DEVICE = \"cuda\" if torch.cuda.is_available() else \"cpu\"\n",
        "    print(f\"this notebook is using device: {self.DEVICE}\")\n",
        "    self.SEED = 2022\n",
        "\n",
        "config = Config()"
      ]
    },
    {
      "cell_type": "code",
      "execution_count": 48,
      "metadata": {
        "id": "IoxU4JVb5Rn6"
      },
      "outputs": [],
      "source": [
        "train_data = datasets.FashionMNIST(\n",
        "    root = config.ROOT_DATA_DIR,\n",
        "    train = True,\n",
        "    download = True,\n",
        "    transform = transforms.ToTensor()\n",
        ")\n",
        "\n",
        "test_data = datasets.FashionMNIST(\n",
        "    root = config.ROOT_DATA_DIR,\n",
        "    train = False,\n",
        "    download = True,\n",
        "    transform = transforms.ToTensor()\n",
        ")"
      ]
    },
    {
      "cell_type": "code",
      "execution_count": 49,
      "metadata": {
        "colab": {
          "base_uri": "https://localhost:8080/"
        },
        "id": "BsAe3TjgbitW",
        "outputId": "e2702b71-a444-46d6-837d-fb204be1d514"
      },
      "outputs": [
        {
          "data": {
            "text/plain": [
              "torch.Size([60000, 28, 28])"
            ]
          },
          "execution_count": 49,
          "metadata": {},
          "output_type": "execute_result"
        }
      ],
      "source": [
        "train_data.data.shape"
      ]
    },
    {
      "cell_type": "code",
      "execution_count": 50,
      "metadata": {
        "colab": {
          "base_uri": "https://localhost:8080/"
        },
        "id": "R6qbOqzrcMp_",
        "outputId": "5655080c-d430-46d5-8970-924d9315c133"
      },
      "outputs": [
        {
          "data": {
            "text/plain": [
              "torch.Size([10000, 28, 28])"
            ]
          },
          "execution_count": 50,
          "metadata": {},
          "output_type": "execute_result"
        }
      ],
      "source": [
        "test_data.data.shape"
      ]
    },
    {
      "cell_type": "code",
      "execution_count": 51,
      "metadata": {
        "colab": {
          "base_uri": "https://localhost:8080/"
        },
        "id": "awMyq1_BcJTP",
        "outputId": "09980d8b-06f3-468a-a902-21f51dac385b"
      },
      "outputs": [
        {
          "data": {
            "text/plain": [
              "{'Ankle boot': 9,\n",
              " 'Bag': 8,\n",
              " 'Coat': 4,\n",
              " 'Dress': 3,\n",
              " 'Pullover': 2,\n",
              " 'Sandal': 5,\n",
              " 'Shirt': 6,\n",
              " 'Sneaker': 7,\n",
              " 'T-shirt/top': 0,\n",
              " 'Trouser': 1}"
            ]
          },
          "execution_count": 51,
          "metadata": {},
          "output_type": "execute_result"
        }
      ],
      "source": [
        "train_data.class_to_idx"
      ]
    },
    {
      "cell_type": "code",
      "execution_count": 52,
      "metadata": {
        "colab": {
          "base_uri": "https://localhost:8080/"
        },
        "id": "lgY6vw3rcbML",
        "outputId": "2169f453-7e9a-48c6-a8c9-4cc6fd2cec7b"
      },
      "outputs": [
        {
          "data": {
            "text/plain": [
              "tensor([9, 0, 0,  ..., 3, 0, 5])"
            ]
          },
          "execution_count": 52,
          "metadata": {},
          "output_type": "execute_result"
        }
      ],
      "source": [
        "train_data.targets"
      ]
    },
    {
      "cell_type": "code",
      "execution_count": 53,
      "metadata": {
        "colab": {
          "base_uri": "https://localhost:8080/"
        },
        "id": "8OQuA9Rucu_V",
        "outputId": "3d3912cb-5459-44a3-fb29-b359a3d8f11c"
      },
      "outputs": [
        {
          "data": {
            "text/plain": [
              "{'Ankle boot': 9,\n",
              " 'Bag': 8,\n",
              " 'Coat': 4,\n",
              " 'Dress': 3,\n",
              " 'Pullover': 2,\n",
              " 'Sandal': 5,\n",
              " 'Shirt': 6,\n",
              " 'Sneaker': 7,\n",
              " 'T-shirt/top': 0,\n",
              " 'Trouser': 1}"
            ]
          },
          "execution_count": 53,
          "metadata": {},
          "output_type": "execute_result"
        }
      ],
      "source": [
        "given_label_map = train_data.class_to_idx\n",
        "given_label_map"
      ]
    },
    {
      "cell_type": "code",
      "execution_count": 54,
      "metadata": {
        "colab": {
          "base_uri": "https://localhost:8080/"
        },
        "id": "5BAK-dQydIlZ",
        "outputId": "a6bcbe88-7a3e-4d26-c674-7d78c1b31b0f"
      },
      "outputs": [
        {
          "data": {
            "text/plain": [
              "{0: 'T-shirt/top',\n",
              " 1: 'Trouser',\n",
              " 2: 'Pullover',\n",
              " 3: 'Dress',\n",
              " 4: 'Coat',\n",
              " 5: 'Sandal',\n",
              " 6: 'Shirt',\n",
              " 7: 'Sneaker',\n",
              " 8: 'Bag',\n",
              " 9: 'Ankle boot'}"
            ]
          },
          "execution_count": 54,
          "metadata": {},
          "output_type": "execute_result"
        }
      ],
      "source": [
        "label_map = {val: key for key, val in given_label_map.items()}\n",
        "label_map"
      ]
    },
    {
      "cell_type": "markdown",
      "metadata": {
        "id": "rn5HR_IMdpho"
      },
      "source": [
        "##Visualize one of the samples"
      ]
    },
    {
      "cell_type": "code",
      "execution_count": 55,
      "metadata": {
        "colab": {
          "base_uri": "https://localhost:8080/",
          "height": 264
        },
        "id": "k43ci9XAdg4t",
        "outputId": "31e29997-e5fc-4f99-b1d2-dad21232ac78"
      },
      "outputs": [
        {
          "data": {
            "image/png": "[encoded data removed]",
            "text/plain": [
              "<Figure size 432x288 with 1 Axes>"
            ]
          },
          "metadata": {
            "needs_background": "light"
          },
          "output_type": "display_data"
        }
      ],
      "source": [
        "def view_sample_img(data, idx, label_map):\n",
        "  plt.imshow(data.data[idx], cmap=\"gray\")\n",
        "  plt.title(f\"data label: {label_map[data.targets[idx].item()]}\")\n",
        "  plt.axis(\"off\")\n",
        "\n",
        "view_sample_img(train_data, 7, label_map)"
      ]
    },
    {
      "cell_type": "markdown",
      "metadata": {
        "id": "YTHbNSsWfJET"
      },
      "source": [
        "## Create the dataloader"
      ]
    },
    {
      "cell_type": "code",
      "execution_count": 56,
      "metadata": {
        "id": "fdZWvjnPe8r9"
      },
      "outputs": [],
      "source": [
        "train_data_loader = DataLoader(\n",
        "    dataset = train_data,\n",
        "    batch_size = config.BATCH_SIZE,\n",
        "    shuffle = True\n",
        ")\n",
        "\n",
        "test_data_loader = DataLoader(\n",
        "    dataset = test_data,\n",
        "    batch_size = config.BATCH_SIZE,\n",
        "    shuffle = False\n",
        ")"
      ]
    },
    {
      "cell_type": "code",
      "execution_count": 57,
      "metadata": {
        "colab": {
          "base_uri": "https://localhost:8080/"
        },
        "id": "GTKuq3JKgc9P",
        "outputId": "982e65d7-d90f-47dd-8c9f-9c197ecb750e"
      },
      "outputs": [
        {
          "data": {
            "text/plain": [
              "<torch.utils.data.dataloader.DataLoader at 0x7f52ee2460d0>"
            ]
          },
          "execution_count": 57,
          "metadata": {},
          "output_type": "execute_result"
        }
      ],
      "source": [
        "train_data_loader"
      ]
    },
    {
      "cell_type": "code",
      "execution_count": 58,
      "metadata": {
        "colab": {
          "base_uri": "https://localhost:8080/"
        },
        "id": "0XH0eeMvge6F",
        "outputId": "280aacf6-2c98-44bb-901e-56c97990b437"
      },
      "outputs": [
        {
          "name": "stdout",
          "output_type": "stream",
          "text": [
            "torch.Size([32, 1, 28, 28])\n",
            "torch.Size([32])\n"
          ]
        }
      ],
      "source": [
        "for images, labels in train_data_loader:\n",
        "  print(images.shape)\n",
        "  print(labels.shape)\n",
        "  break"
      ]
    },
    {
      "cell_type": "code",
      "execution_count": 59,
      "metadata": {
        "colab": {
          "base_uri": "https://localhost:8080/"
        },
        "id": "4uRRzYvNg8wl",
        "outputId": "aa304601-3296-46b1-eb57-ec9b401d1a21"
      },
      "outputs": [
        {
          "data": {
            "text/plain": [
              "torch.Size([1, 28, 28])"
            ]
          },
          "execution_count": 59,
          "metadata": {},
          "output_type": "execute_result"
        }
      ],
      "source": [
        "images[0].shape"
      ]
    },
    {
      "cell_type": "code",
      "execution_count": 60,
      "metadata": {
        "colab": {
          "base_uri": "https://localhost:8080/"
        },
        "id": "1srLbfoZh4rk",
        "outputId": "f81fae70-277b-46e4-a431-e0f34060b537"
      },
      "outputs": [
        {
          "data": {
            "text/plain": [
              "torch.Size([28, 28])"
            ]
          },
          "execution_count": 60,
          "metadata": {},
          "output_type": "execute_result"
        }
      ],
      "source": [
        "images[0].squeeze().shape"
      ]
    },
    {
      "cell_type": "code",
      "execution_count": 61,
      "metadata": {
        "colab": {
          "base_uri": "https://localhost:8080/"
        },
        "id": "4JCmZJF5h6of",
        "outputId": "98bb79dc-23d8-4be0-9edc-35320b27bf09"
      },
      "outputs": [
        {
          "data": {
            "text/plain": [
              "array([[0.        , 0.        , 0.        , 0.        , 0.        ,\n",
              "        0.        , 0.00392157, 0.        , 0.        , 0.        ,\n",
              "        0.        , 0.01176471, 0.21960784, 0.07058824, 0.25882354,\n",
              "        0.36078432, 0.        , 0.        , 0.        , 0.00392157,\n",
              "        0.00392157, 0.        , 0.        , 0.        , 0.        ,\n",
              "        0.        , 0.        , 0.        ],\n",
              "       [0.        , 0.        , 0.        , 0.        , 0.        ,\n",
              "        0.        , 0.        , 0.        , 0.06666667, 0.30980393,\n",
              "        0.21960784, 0.        , 0.8627451 , 0.8627451 , 0.827451  ,\n",
              "        0.27058825, 0.        , 0.36862746, 0.19607843, 0.        ,\n",
              "        0.        , 0.        , 0.        , 0.        , 0.        ,\n",
              "        0.        , 0.        , 0.        ],\n",
              "       [0.        , 0.        , 0.        , 0.        , 0.00392157,\n",
              "        0.        , 0.01176471, 0.3137255 , 0.3764706 , 0.36078432,\n",
              "        0.3137255 , 0.03921569, 0.12156863, 1.        , 0.62352943,\n",
              "        0.        , 0.16862746, 0.34117648, 0.4117647 , 0.36078432,\n",
              "        0.20784314, 0.        , 0.00392157, 0.        , 0.        ,\n",
              "        0.        , 0.        , 0.        ],\n",
              "       [0.        , 0.        , 0.        , 0.        , 0.00392157,\n",
              "        0.        , 0.36078432, 0.3529412 , 0.2509804 , 0.23921569,\n",
              "        0.2509804 , 0.23921569, 0.12941177, 0.29411766, 0.15686275,\n",
              "        0.18431373, 0.29411766, 0.2509804 , 0.2       , 0.28235295,\n",
              "        0.52156866, 0.19607843, 0.        , 0.        , 0.        ,\n",
              "        0.        , 0.        , 0.        ],\n",
              "       [0.        , 0.        , 0.        , 0.        , 0.        ,\n",
              "        0.05490196, 0.4509804 , 0.27058825, 0.26666668, 0.26666668,\n",
              "        0.23529412, 0.21960784, 0.2       , 0.3019608 , 0.2509804 ,\n",
              "        0.22352941, 0.25882354, 0.22352941, 0.28627452, 0.3137255 ,\n",
              "        0.2627451 , 0.38039216, 0.        , 0.00392157, 0.        ,\n",
              "        0.        , 0.        , 0.        ],\n",
              "       [0.        , 0.        , 0.        , 0.        , 0.        ,\n",
              "        0.23137255, 0.3647059 , 0.27058825, 0.2627451 , 0.24705882,\n",
              "        0.26666668, 0.23529412, 0.19607843, 0.27058825, 0.24313726,\n",
              "        0.21568628, 0.23137255, 0.2627451 , 0.2901961 , 0.2       ,\n",
              "        0.2       , 0.43137255, 0.2       , 0.        , 0.        ,\n",
              "        0.        , 0.        , 0.        ],\n",
              "       [0.        , 0.        , 0.        , 0.        , 0.        ,\n",
              "        0.15686275, 0.33333334, 0.2627451 , 0.24313726, 0.23529412,\n",
              "        0.21960784, 0.23529412, 0.19215687, 0.27058825, 0.23529412,\n",
              "        0.21568628, 0.24313726, 0.22352941, 0.2       , 0.19215687,\n",
              "        0.3019608 , 0.22352941, 0.09411765, 0.        , 0.        ,\n",
              "        0.        , 0.        , 0.        ],\n",
              "       [0.        , 0.        , 0.        , 0.        , 0.00392157,\n",
              "        0.01176471, 0.07058824, 0.19215687, 0.21176471, 0.23137255,\n",
              "        0.19607843, 0.19215687, 0.18039216, 0.26666668, 0.23529412,\n",
              "        0.1882353 , 0.19607843, 0.2       , 0.19607843, 0.21960784,\n",
              "        0.16078432, 0.        , 0.03137255, 0.        , 0.        ,\n",
              "        0.        , 0.        , 0.        ],\n",
              "       [0.        , 0.        , 0.        , 0.        , 0.00392157,\n",
              "        0.07843138, 0.03921569, 0.18431373, 0.21568628, 0.19607843,\n",
              "        0.20784314, 0.20784314, 0.17254902, 0.28235295, 0.24313726,\n",
              "        0.19607843, 0.19607843, 0.19215687, 0.20784314, 0.20784314,\n",
              "        0.05882353, 0.01960784, 0.07843138, 0.00392157, 0.        ,\n",
              "        0.        , 0.        , 0.        ],\n",
              "       [0.        , 0.        , 0.        , 0.        , 0.02745098,\n",
              "        0.09019608, 0.02745098, 0.19607843, 0.27450982, 0.21568628,\n",
              "        0.21176471, 0.23921569, 0.1882353 , 0.28627452, 0.25882354,\n",
              "        0.2       , 0.21176471, 0.20784314, 0.2       , 0.22352941,\n",
              "        0.0627451 , 0.02745098, 0.0627451 , 0.01960784, 0.        ,\n",
              "        0.        , 0.        , 0.        ],\n",
              "       [0.        , 0.        , 0.        , 0.        , 0.01960784,\n",
              "        0.09019608, 0.02745098, 0.16470589, 0.25882354, 0.2       ,\n",
              "        0.21176471, 0.23137255, 0.2       , 0.28235295, 0.2627451 ,\n",
              "        0.19607843, 0.21568628, 0.23921569, 0.1882353 , 0.23529412,\n",
              "        0.0627451 , 0.03529412, 0.05490196, 0.02745098, 0.        ,\n",
              "        0.        , 0.        , 0.        ],\n",
              "       [0.        , 0.        , 0.        , 0.        , 0.03137255,\n",
              "        0.08235294, 0.02745098, 0.14117648, 0.2901961 , 0.19215687,\n",
              "        0.24313726, 0.24705882, 0.2       , 0.28235295, 0.26666668,\n",
              "        0.2       , 0.21176471, 0.24705882, 0.21176471, 0.20784314,\n",
              "        0.05490196, 0.03529412, 0.05882353, 0.01960784, 0.        ,\n",
              "        0.        , 0.        , 0.        ],\n",
              "       [0.        , 0.        , 0.        , 0.        , 0.04313726,\n",
              "        0.0627451 , 0.02745098, 0.17254902, 0.36862746, 0.21960784,\n",
              "        0.25882354, 0.2627451 , 0.20784314, 0.28627452, 0.27058825,\n",
              "        0.20784314, 0.21568628, 0.23137255, 0.2627451 , 0.24705882,\n",
              "        0.06666667, 0.03529412, 0.05490196, 0.02745098, 0.        ,\n",
              "        0.        , 0.        , 0.        ],\n",
              "       [0.        , 0.        , 0.        , 0.        , 0.05490196,\n",
              "        0.06666667, 0.01176471, 0.26666668, 0.36078432, 0.21960784,\n",
              "        0.27450982, 0.2509804 , 0.20784314, 0.29803923, 0.2901961 ,\n",
              "        0.21176471, 0.21960784, 0.21176471, 0.2627451 , 0.2901961 ,\n",
              "        0.04313726, 0.02745098, 0.03921569, 0.05490196, 0.        ,\n",
              "        0.        , 0.        , 0.        ],\n",
              "       [0.        , 0.        , 0.        , 0.        , 0.05882353,\n",
              "        0.08235294, 0.        , 0.3529412 , 0.47843137, 0.22352941,\n",
              "        0.2627451 , 0.24705882, 0.21176471, 0.29411766, 0.3019608 ,\n",
              "        0.21176471, 0.21568628, 0.20784314, 0.22352941, 0.27058825,\n",
              "        0.08627451, 0.02745098, 0.04705882, 0.05490196, 0.        ,\n",
              "        0.        , 0.        , 0.        ],\n",
              "       [0.        , 0.        , 0.        , 0.        , 0.0627451 ,\n",
              "        0.07843138, 0.00784314, 0.2509804 , 0.41568628, 0.23137255,\n",
              "        0.2509804 , 0.2509804 , 0.21176471, 0.29803923, 0.29411766,\n",
              "        0.24313726, 0.21960784, 0.21176471, 0.21568628, 0.27450982,\n",
              "        0.12941177, 0.01960784, 0.05882353, 0.05490196, 0.        ,\n",
              "        0.        , 0.        , 0.        ],\n",
              "       [0.        , 0.        , 0.        , 0.        , 0.0627451 ,\n",
              "        0.09019608, 0.01568628, 0.25882354, 0.3019608 , 0.22352941,\n",
              "        0.2627451 , 0.24313726, 0.21568628, 0.3019608 , 0.3019608 ,\n",
              "        0.27058825, 0.28235295, 0.19607843, 0.2       , 0.28627452,\n",
              "        0.18431373, 0.01176471, 0.05490196, 0.0627451 , 0.        ,\n",
              "        0.        , 0.        , 0.        ],\n",
              "       [0.        , 0.        , 0.        , 0.        , 0.07058824,\n",
              "        0.10588235, 0.01568628, 0.2509804 , 0.28627452, 0.25882354,\n",
              "        0.26666668, 0.23921569, 0.21568628, 0.29411766, 0.2901961 ,\n",
              "        0.20784314, 0.27450982, 0.23137255, 0.21568628, 0.27450982,\n",
              "        0.23529412, 0.00784314, 0.04705882, 0.07058824, 0.        ,\n",
              "        0.        , 0.        , 0.        ],\n",
              "       [0.        , 0.        , 0.        , 0.        , 0.08235294,\n",
              "        0.10588235, 0.01960784, 0.23921569, 0.27450982, 0.27450982,\n",
              "        0.24705882, 0.23921569, 0.21960784, 0.29803923, 0.33333334,\n",
              "        0.24705882, 0.2509804 , 0.27058825, 0.25882354, 0.27058825,\n",
              "        0.27450982, 0.01176471, 0.06666667, 0.07843138, 0.        ,\n",
              "        0.        , 0.        , 0.        ],\n",
              "       [0.        , 0.        , 0.        , 0.        , 0.08627451,\n",
              "        0.10980392, 0.01960784, 0.24705882, 0.27058825, 0.2627451 ,\n",
              "        0.2509804 , 0.23137255, 0.21176471, 0.34117648, 0.33333334,\n",
              "        0.29803923, 0.2901961 , 0.2509804 , 0.27450982, 0.26666668,\n",
              "        0.31764707, 0.01176471, 0.06666667, 0.08235294, 0.        ,\n",
              "        0.        , 0.        , 0.        ],\n",
              "       [0.        , 0.        , 0.        , 0.        , 0.08235294,\n",
              "        0.12156863, 0.01568628, 0.29411766, 0.28235295, 0.3137255 ,\n",
              "        0.23921569, 0.24313726, 0.21568628, 0.4       , 0.34509805,\n",
              "        0.23921569, 0.33333334, 0.27058825, 0.2627451 , 0.2627451 ,\n",
              "        0.32156864, 0.01960784, 0.08627451, 0.09019608, 0.        ,\n",
              "        0.        , 0.        , 0.        ],\n",
              "       [0.        , 0.        , 0.        , 0.        , 0.09019608,\n",
              "        0.13333334, 0.01960784, 0.36862746, 0.29803923, 0.3137255 ,\n",
              "        0.26666668, 0.32156864, 0.20784314, 0.39607844, 0.36862746,\n",
              "        0.23137255, 0.36078432, 0.34509805, 0.29803923, 0.29803923,\n",
              "        0.30980393, 0.01960784, 0.10588235, 0.09019608, 0.        ,\n",
              "        0.        , 0.        , 0.        ],\n",
              "       [0.        , 0.        , 0.        , 0.        , 0.07058824,\n",
              "        0.13333334, 0.05882353, 0.23921569, 0.26666668, 0.25882354,\n",
              "        0.21960784, 0.30980393, 0.2509804 , 0.4       , 0.34117648,\n",
              "        0.2509804 , 0.2509804 , 0.25882354, 0.25882354, 0.22352941,\n",
              "        0.16470589, 0.04313726, 0.11372549, 0.08627451, 0.        ,\n",
              "        0.        , 0.        , 0.        ],\n",
              "       [0.        , 0.        , 0.        , 0.        , 0.0627451 ,\n",
              "        0.11764706, 0.09411765, 0.04705882, 0.03137255, 0.02745098,\n",
              "        0.03137255, 0.09411765, 0.26666668, 0.40392157, 0.33333334,\n",
              "        0.21176471, 0.        , 0.01568628, 0.05882353, 0.01568628,\n",
              "        0.07058824, 0.08627451, 0.12941177, 0.09019608, 0.        ,\n",
              "        0.        , 0.        , 0.        ],\n",
              "       [0.        , 0.        , 0.        , 0.        , 0.09019608,\n",
              "        0.06666667, 0.15686275, 0.19215687, 0.04313726, 0.09411765,\n",
              "        0.04313726, 0.13333334, 0.29411766, 0.41960785, 0.41960785,\n",
              "        0.3019608 , 0.05882353, 0.05490196, 0.09803922, 0.05490196,\n",
              "        0.10588235, 0.10980392, 0.10588235, 0.07843138, 0.        ,\n",
              "        0.        , 0.        , 0.        ],\n",
              "       [0.        , 0.        , 0.        , 0.        , 0.09019608,\n",
              "        0.10588235, 0.2627451 , 0.15686275, 0.01176471, 0.08627451,\n",
              "        0.02745098, 0.17254902, 0.33333334, 0.34901962, 0.34117648,\n",
              "        0.34117648, 0.11764706, 0.07843138, 0.09019608, 0.01568628,\n",
              "        0.19607843, 0.27058825, 0.11372549, 0.07843138, 0.        ,\n",
              "        0.        , 0.        , 0.        ],\n",
              "       [0.        , 0.        , 0.        , 0.        , 0.01176471,\n",
              "        0.0627451 , 0.21568628, 0.10588235, 0.        , 0.        ,\n",
              "        0.        , 0.        , 0.        , 0.        , 0.        ,\n",
              "        0.        , 0.        , 0.        , 0.        , 0.        ,\n",
              "        0.10980392, 0.26666668, 0.08627451, 0.03529412, 0.        ,\n",
              "        0.        , 0.        , 0.        ],\n",
              "       [0.        , 0.        , 0.        , 0.        , 0.01176471,\n",
              "        0.05882353, 0.17254902, 0.10980392, 0.        , 0.        ,\n",
              "        0.        , 0.        , 0.        , 0.        , 0.        ,\n",
              "        0.        , 0.        , 0.        , 0.        , 0.        ,\n",
              "        0.09803922, 0.24705882, 0.05882353, 0.03529412, 0.        ,\n",
              "        0.        , 0.        , 0.        ]], dtype=float32)"
            ]
          },
          "execution_count": 61,
          "metadata": {},
          "output_type": "execute_result"
        }
      ],
      "source": [
        "images[0].squeeze().numpy()"
      ]
    },
    {
      "cell_type": "code",
      "execution_count": 62,
      "metadata": {
        "colab": {
          "base_uri": "https://localhost:8080/",
          "height": 282
        },
        "id": "7Mp1yHe0iHO-",
        "outputId": "65ceeab0-c268-442c-fdc7-07308c7a74ad"
      },
      "outputs": [
        {
          "data": {
            "text/plain": [
              "<matplotlib.image.AxesImage at 0x7f52ed97dd50>"
            ]
          },
          "execution_count": 62,
          "metadata": {},
          "output_type": "execute_result"
        },
        {
          "data": {
            "image/png": "[encoded data removed]",
            "text/plain": [
              "<Figure size 432x288 with 1 Axes>"
            ]
          },
          "metadata": {
            "needs_background": "light"
          },
          "output_type": "display_data"
        }
      ],
      "source": [
        "plt.imshow(images[0].squeeze(), cmap=\"gray\")"
      ]
    },
    {
      "cell_type": "code",
      "execution_count": 63,
      "metadata": {
        "colab": {
          "base_uri": "https://localhost:8080/"
        },
        "id": "6TQSjOfUiLXf",
        "outputId": "33dc6474-3552-4aa7-d95e-f0d5d256b7e8"
      },
      "outputs": [
        {
          "data": {
            "text/plain": [
              "(torch.Size([1, 28, 28]), torch.Size([28, 28]), torch.Size([1, 1, 28, 28]))"
            ]
          },
          "execution_count": 63,
          "metadata": {},
          "output_type": "execute_result"
        }
      ],
      "source": [
        "images[0].shape, images[0].squeeze().shape, images[0].unsqueeze(dim=1).shape"
      ]
    },
    {
      "cell_type": "code",
      "execution_count": 64,
      "metadata": {
        "colab": {
          "base_uri": "https://localhost:8080/"
        },
        "id": "T2_rh8FuikBw",
        "outputId": "41929bf0-b0f9-42f0-813b-199fe93ae144"
      },
      "outputs": [
        {
          "data": {
            "text/plain": [
              "tensor([[[0.0000, 0.0000, 0.0000, 0.0000, 0.0000, 0.0000, 0.0039, 0.0000,\n",
              "          0.0000, 0.0000, 0.0000, 0.0118, 0.2196, 0.0706, 0.2588, 0.3608,\n",
              "          0.0000, 0.0000, 0.0000, 0.0039, 0.0039, 0.0000, 0.0000, 0.0000,\n",
              "          0.0000, 0.0000, 0.0000, 0.0000],\n",
              "         [0.0000, 0.0000, 0.0000, 0.0000, 0.0000, 0.0000, 0.0000, 0.0000,\n",
              "          0.0667, 0.3098, 0.2196, 0.0000, 0.8627, 0.8627, 0.8275, 0.2706,\n",
              "          0.0000, 0.3686, 0.1961, 0.0000, 0.0000, 0.0000, 0.0000, 0.0000,\n",
              "          0.0000, 0.0000, 0.0000, 0.0000],\n",
              "         [0.0000, 0.0000, 0.0000, 0.0000, 0.0039, 0.0000, 0.0118, 0.3137,\n",
              "          0.3765, 0.3608, 0.3137, 0.0392, 0.1216, 1.0000, 0.6235, 0.0000,\n",
              "          0.1686, 0.3412, 0.4118, 0.3608, 0.2078, 0.0000, 0.0039, 0.0000,\n",
              "          0.0000, 0.0000, 0.0000, 0.0000],\n",
              "         [0.0000, 0.0000, 0.0000, 0.0000, 0.0039, 0.0000, 0.3608, 0.3529,\n",
              "          0.2510, 0.2392, 0.2510, 0.2392, 0.1294, 0.2941, 0.1569, 0.1843,\n",
              "          0.2941, 0.2510, 0.2000, 0.2824, 0.5216, 0.1961, 0.0000, 0.0000,\n",
              "          0.0000, 0.0000, 0.0000, 0.0000],\n",
              "         [0.0000, 0.0000, 0.0000, 0.0000, 0.0000, 0.0549, 0.4510, 0.2706,\n",
              "          0.2667, 0.2667, 0.2353, 0.2196, 0.2000, 0.3020, 0.2510, 0.2235,\n",
              "          0.2588, 0.2235, 0.2863, 0.3137, 0.2627, 0.3804, 0.0000, 0.0039,\n",
              "          0.0000, 0.0000, 0.0000, 0.0000],\n",
              "         [0.0000, 0.0000, 0.0000, 0.0000, 0.0000, 0.2314, 0.3647, 0.2706,\n",
              "          0.2627, 0.2471, 0.2667, 0.2353, 0.1961, 0.2706, 0.2431, 0.2157,\n",
              "          0.2314, 0.2627, 0.2902, 0.2000, 0.2000, 0.4314, 0.2000, 0.0000,\n",
              "          0.0000, 0.0000, 0.0000, 0.0000],\n",
              "         [0.0000, 0.0000, 0.0000, 0.0000, 0.0000, 0.1569, 0.3333, 0.2627,\n",
              "          0.2431, 0.2353, 0.2196, 0.2353, 0.1922, 0.2706, 0.2353, 0.2157,\n",
              "          0.2431, 0.2235, 0.2000, 0.1922, 0.3020, 0.2235, 0.0941, 0.0000,\n",
              "          0.0000, 0.0000, 0.0000, 0.0000],\n",
              "         [0.0000, 0.0000, 0.0000, 0.0000, 0.0039, 0.0118, 0.0706, 0.1922,\n",
              "          0.2118, 0.2314, 0.1961, 0.1922, 0.1804, 0.2667, 0.2353, 0.1882,\n",
              "          0.1961, 0.2000, 0.1961, 0.2196, 0.1608, 0.0000, 0.0314, 0.0000,\n",
              "          0.0000, 0.0000, 0.0000, 0.0000],\n",
              "         [0.0000, 0.0000, 0.0000, 0.0000, 0.0039, 0.0784, 0.0392, 0.1843,\n",
              "          0.2157, 0.1961, 0.2078, 0.2078, 0.1725, 0.2824, 0.2431, 0.1961,\n",
              "          0.1961, 0.1922, 0.2078, 0.2078, 0.0588, 0.0196, 0.0784, 0.0039,\n",
              "          0.0000, 0.0000, 0.0000, 0.0000],\n",
              "         [0.0000, 0.0000, 0.0000, 0.0000, 0.0275, 0.0902, 0.0275, 0.1961,\n",
              "          0.2745, 0.2157, 0.2118, 0.2392, 0.1882, 0.2863, 0.2588, 0.2000,\n",
              "          0.2118, 0.2078, 0.2000, 0.2235, 0.0627, 0.0275, 0.0627, 0.0196,\n",
              "          0.0000, 0.0000, 0.0000, 0.0000],\n",
              "         [0.0000, 0.0000, 0.0000, 0.0000, 0.0196, 0.0902, 0.0275, 0.1647,\n",
              "          0.2588, 0.2000, 0.2118, 0.2314, 0.2000, 0.2824, 0.2627, 0.1961,\n",
              "          0.2157, 0.2392, 0.1882, 0.2353, 0.0627, 0.0353, 0.0549, 0.0275,\n",
              "          0.0000, 0.0000, 0.0000, 0.0000],\n",
              "         [0.0000, 0.0000, 0.0000, 0.0000, 0.0314, 0.0824, 0.0275, 0.1412,\n",
              "          0.2902, 0.1922, 0.2431, 0.2471, 0.2000, 0.2824, 0.2667, 0.2000,\n",
              "          0.2118, 0.2471, 0.2118, 0.2078, 0.0549, 0.0353, 0.0588, 0.0196,\n",
              "          0.0000, 0.0000, 0.0000, 0.0000],\n",
              "         [0.0000, 0.0000, 0.0000, 0.0000, 0.0431, 0.0627, 0.0275, 0.1725,\n",
              "          0.3686, 0.2196, 0.2588, 0.2627, 0.2078, 0.2863, 0.2706, 0.2078,\n",
              "          0.2157, 0.2314, 0.2627, 0.2471, 0.0667, 0.0353, 0.0549, 0.0275,\n",
              "          0.0000, 0.0000, 0.0000, 0.0000],\n",
              "         [0.0000, 0.0000, 0.0000, 0.0000, 0.0549, 0.0667, 0.0118, 0.2667,\n",
              "          0.3608, 0.2196, 0.2745, 0.2510, 0.2078, 0.2980, 0.2902, 0.2118,\n",
              "          0.2196, 0.2118, 0.2627, 0.2902, 0.0431, 0.0275, 0.0392, 0.0549,\n",
              "          0.0000, 0.0000, 0.0000, 0.0000],\n",
              "         [0.0000, 0.0000, 0.0000, 0.0000, 0.0588, 0.0824, 0.0000, 0.3529,\n",
              "          0.4784, 0.2235, 0.2627, 0.2471, 0.2118, 0.2941, 0.3020, 0.2118,\n",
              "          0.2157, 0.2078, 0.2235, 0.2706, 0.0863, 0.0275, 0.0471, 0.0549,\n",
              "          0.0000, 0.0000, 0.0000, 0.0000],\n",
              "         [0.0000, 0.0000, 0.0000, 0.0000, 0.0627, 0.0784, 0.0078, 0.2510,\n",
              "          0.4157, 0.2314, 0.2510, 0.2510, 0.2118, 0.2980, 0.2941, 0.2431,\n",
              "          0.2196, 0.2118, 0.2157, 0.2745, 0.1294, 0.0196, 0.0588, 0.0549,\n",
              "          0.0000, 0.0000, 0.0000, 0.0000],\n",
              "         [0.0000, 0.0000, 0.0000, 0.0000, 0.0627, 0.0902, 0.0157, 0.2588,\n",
              "          0.3020, 0.2235, 0.2627, 0.2431, 0.2157, 0.3020, 0.3020, 0.2706,\n",
              "          0.2824, 0.1961, 0.2000, 0.2863, 0.1843, 0.0118, 0.0549, 0.0627,\n",
              "          0.0000, 0.0000, 0.0000, 0.0000],\n",
              "         [0.0000, 0.0000, 0.0000, 0.0000, 0.0706, 0.1059, 0.0157, 0.2510,\n",
              "          0.2863, 0.2588, 0.2667, 0.2392, 0.2157, 0.2941, 0.2902, 0.2078,\n",
              "          0.2745, 0.2314, 0.2157, 0.2745, 0.2353, 0.0078, 0.0471, 0.0706,\n",
              "          0.0000, 0.0000, 0.0000, 0.0000],\n",
              "         [0.0000, 0.0000, 0.0000, 0.0000, 0.0824, 0.1059, 0.0196, 0.2392,\n",
              "          0.2745, 0.2745, 0.2471, 0.2392, 0.2196, 0.2980, 0.3333, 0.2471,\n",
              "          0.2510, 0.2706, 0.2588, 0.2706, 0.2745, 0.0118, 0.0667, 0.0784,\n",
              "          0.0000, 0.0000, 0.0000, 0.0000],\n",
              "         [0.0000, 0.0000, 0.0000, 0.0000, 0.0863, 0.1098, 0.0196, 0.2471,\n",
              "          0.2706, 0.2627, 0.2510, 0.2314, 0.2118, 0.3412, 0.3333, 0.2980,\n",
              "          0.2902, 0.2510, 0.2745, 0.2667, 0.3176, 0.0118, 0.0667, 0.0824,\n",
              "          0.0000, 0.0000, 0.0000, 0.0000],\n",
              "         [0.0000, 0.0000, 0.0000, 0.0000, 0.0824, 0.1216, 0.0157, 0.2941,\n",
              "          0.2824, 0.3137, 0.2392, 0.2431, 0.2157, 0.4000, 0.3451, 0.2392,\n",
              "          0.3333, 0.2706, 0.2627, 0.2627, 0.3216, 0.0196, 0.0863, 0.0902,\n",
              "          0.0000, 0.0000, 0.0000, 0.0000],\n",
              "         [0.0000, 0.0000, 0.0000, 0.0000, 0.0902, 0.1333, 0.0196, 0.3686,\n",
              "          0.2980, 0.3137, 0.2667, 0.3216, 0.2078, 0.3961, 0.3686, 0.2314,\n",
              "          0.3608, 0.3451, 0.2980, 0.2980, 0.3098, 0.0196, 0.1059, 0.0902,\n",
              "          0.0000, 0.0000, 0.0000, 0.0000],\n",
              "         [0.0000, 0.0000, 0.0000, 0.0000, 0.0706, 0.1333, 0.0588, 0.2392,\n",
              "          0.2667, 0.2588, 0.2196, 0.3098, 0.2510, 0.4000, 0.3412, 0.2510,\n",
              "          0.2510, 0.2588, 0.2588, 0.2235, 0.1647, 0.0431, 0.1137, 0.0863,\n",
              "          0.0000, 0.0000, 0.0000, 0.0000],\n",
              "         [0.0000, 0.0000, 0.0000, 0.0000, 0.0627, 0.1176, 0.0941, 0.0471,\n",
              "          0.0314, 0.0275, 0.0314, 0.0941, 0.2667, 0.4039, 0.3333, 0.2118,\n",
              "          0.0000, 0.0157, 0.0588, 0.0157, 0.0706, 0.0863, 0.1294, 0.0902,\n",
              "          0.0000, 0.0000, 0.0000, 0.0000],\n",
              "         [0.0000, 0.0000, 0.0000, 0.0000, 0.0902, 0.0667, 0.1569, 0.1922,\n",
              "          0.0431, 0.0941, 0.0431, 0.1333, 0.2941, 0.4196, 0.4196, 0.3020,\n",
              "          0.0588, 0.0549, 0.0980, 0.0549, 0.1059, 0.1098, 0.1059, 0.0784,\n",
              "          0.0000, 0.0000, 0.0000, 0.0000],\n",
              "         [0.0000, 0.0000, 0.0000, 0.0000, 0.0902, 0.1059, 0.2627, 0.1569,\n",
              "          0.0118, 0.0863, 0.0275, 0.1725, 0.3333, 0.3490, 0.3412, 0.3412,\n",
              "          0.1176, 0.0784, 0.0902, 0.0157, 0.1961, 0.2706, 0.1137, 0.0784,\n",
              "          0.0000, 0.0000, 0.0000, 0.0000],\n",
              "         [0.0000, 0.0000, 0.0000, 0.0000, 0.0118, 0.0627, 0.2157, 0.1059,\n",
              "          0.0000, 0.0000, 0.0000, 0.0000, 0.0000, 0.0000, 0.0000, 0.0000,\n",
              "          0.0000, 0.0000, 0.0000, 0.0000, 0.1098, 0.2667, 0.0863, 0.0353,\n",
              "          0.0000, 0.0000, 0.0000, 0.0000],\n",
              "         [0.0000, 0.0000, 0.0000, 0.0000, 0.0118, 0.0588, 0.1725, 0.1098,\n",
              "          0.0000, 0.0000, 0.0000, 0.0000, 0.0000, 0.0000, 0.0000, 0.0000,\n",
              "          0.0000, 0.0000, 0.0000, 0.0000, 0.0980, 0.2471, 0.0588, 0.0353,\n",
              "          0.0000, 0.0000, 0.0000, 0.0000]]])"
            ]
          },
          "execution_count": 64,
          "metadata": {},
          "output_type": "execute_result"
        }
      ],
      "source": [
        "images[0]"
      ]
    },
    {
      "cell_type": "code",
      "execution_count": 65,
      "metadata": {
        "colab": {
          "base_uri": "https://localhost:8080/"
        },
        "id": "L6xlkPdUjnSb",
        "outputId": "8346e532-e8e4-4a3c-b027-1cec651f4e8d"
      },
      "outputs": [
        {
          "data": {
            "text/plain": [
              "torch.Size([28, 28])"
            ]
          },
          "execution_count": 65,
          "metadata": {},
          "output_type": "execute_result"
        }
      ],
      "source": [
        "images[0][0].shape"
      ]
    },
    {
      "cell_type": "code",
      "execution_count": 66,
      "metadata": {
        "colab": {
          "base_uri": "https://localhost:8080/"
        },
        "id": "kaz1CPOri_vo",
        "outputId": "26d27889-cb7c-453d-bdaa-9e7d72b86480"
      },
      "outputs": [
        {
          "data": {
            "text/plain": [
              "tensor([[0.0000, 0.0000, 0.0000, 0.0000, 0.0000, 0.0000, 0.0039, 0.0000, 0.0000,\n",
              "         0.0000, 0.0000, 0.0118, 0.2196, 0.0706, 0.2588, 0.3608, 0.0000, 0.0000,\n",
              "         0.0000, 0.0039, 0.0039, 0.0000, 0.0000, 0.0000, 0.0000, 0.0000, 0.0000,\n",
              "         0.0000],\n",
              "        [0.0000, 0.0000, 0.0000, 0.0000, 0.0000, 0.0000, 0.0000, 0.0000, 0.0667,\n",
              "         0.3098, 0.2196, 0.0000, 0.8627, 0.8627, 0.8275, 0.2706, 0.0000, 0.3686,\n",
              "         0.1961, 0.0000, 0.0000, 0.0000, 0.0000, 0.0000, 0.0000, 0.0000, 0.0000,\n",
              "         0.0000],\n",
              "        [0.0000, 0.0000, 0.0000, 0.0000, 0.0039, 0.0000, 0.0118, 0.3137, 0.3765,\n",
              "         0.3608, 0.3137, 0.0392, 0.1216, 1.0000, 0.6235, 0.0000, 0.1686, 0.3412,\n",
              "         0.4118, 0.3608, 0.2078, 0.0000, 0.0039, 0.0000, 0.0000, 0.0000, 0.0000,\n",
              "         0.0000],\n",
              "        [0.0000, 0.0000, 0.0000, 0.0000, 0.0039, 0.0000, 0.3608, 0.3529, 0.2510,\n",
              "         0.2392, 0.2510, 0.2392, 0.1294, 0.2941, 0.1569, 0.1843, 0.2941, 0.2510,\n",
              "         0.2000, 0.2824, 0.5216, 0.1961, 0.0000, 0.0000, 0.0000, 0.0000, 0.0000,\n",
              "         0.0000],\n",
              "        [0.0000, 0.0000, 0.0000, 0.0000, 0.0000, 0.0549, 0.4510, 0.2706, 0.2667,\n",
              "         0.2667, 0.2353, 0.2196, 0.2000, 0.3020, 0.2510, 0.2235, 0.2588, 0.2235,\n",
              "         0.2863, 0.3137, 0.2627, 0.3804, 0.0000, 0.0039, 0.0000, 0.0000, 0.0000,\n",
              "         0.0000],\n",
              "        [0.0000, 0.0000, 0.0000, 0.0000, 0.0000, 0.2314, 0.3647, 0.2706, 0.2627,\n",
              "         0.2471, 0.2667, 0.2353, 0.1961, 0.2706, 0.2431, 0.2157, 0.2314, 0.2627,\n",
              "         0.2902, 0.2000, 0.2000, 0.4314, 0.2000, 0.0000, 0.0000, 0.0000, 0.0000,\n",
              "         0.0000],\n",
              "        [0.0000, 0.0000, 0.0000, 0.0000, 0.0000, 0.1569, 0.3333, 0.2627, 0.2431,\n",
              "         0.2353, 0.2196, 0.2353, 0.1922, 0.2706, 0.2353, 0.2157, 0.2431, 0.2235,\n",
              "         0.2000, 0.1922, 0.3020, 0.2235, 0.0941, 0.0000, 0.0000, 0.0000, 0.0000,\n",
              "         0.0000],\n",
              "        [0.0000, 0.0000, 0.0000, 0.0000, 0.0039, 0.0118, 0.0706, 0.1922, 0.2118,\n",
              "         0.2314, 0.1961, 0.1922, 0.1804, 0.2667, 0.2353, 0.1882, 0.1961, 0.2000,\n",
              "         0.1961, 0.2196, 0.1608, 0.0000, 0.0314, 0.0000, 0.0000, 0.0000, 0.0000,\n",
              "         0.0000],\n",
              "        [0.0000, 0.0000, 0.0000, 0.0000, 0.0039, 0.0784, 0.0392, 0.1843, 0.2157,\n",
              "         0.1961, 0.2078, 0.2078, 0.1725, 0.2824, 0.2431, 0.1961, 0.1961, 0.1922,\n",
              "         0.2078, 0.2078, 0.0588, 0.0196, 0.0784, 0.0039, 0.0000, 0.0000, 0.0000,\n",
              "         0.0000],\n",
              "        [0.0000, 0.0000, 0.0000, 0.0000, 0.0275, 0.0902, 0.0275, 0.1961, 0.2745,\n",
              "         0.2157, 0.2118, 0.2392, 0.1882, 0.2863, 0.2588, 0.2000, 0.2118, 0.2078,\n",
              "         0.2000, 0.2235, 0.0627, 0.0275, 0.0627, 0.0196, 0.0000, 0.0000, 0.0000,\n",
              "         0.0000],\n",
              "        [0.0000, 0.0000, 0.0000, 0.0000, 0.0196, 0.0902, 0.0275, 0.1647, 0.2588,\n",
              "         0.2000, 0.2118, 0.2314, 0.2000, 0.2824, 0.2627, 0.1961, 0.2157, 0.2392,\n",
              "         0.1882, 0.2353, 0.0627, 0.0353, 0.0549, 0.0275, 0.0000, 0.0000, 0.0000,\n",
              "         0.0000],\n",
              "        [0.0000, 0.0000, 0.0000, 0.0000, 0.0314, 0.0824, 0.0275, 0.1412, 0.2902,\n",
              "         0.1922, 0.2431, 0.2471, 0.2000, 0.2824, 0.2667, 0.2000, 0.2118, 0.2471,\n",
              "         0.2118, 0.2078, 0.0549, 0.0353, 0.0588, 0.0196, 0.0000, 0.0000, 0.0000,\n",
              "         0.0000],\n",
              "        [0.0000, 0.0000, 0.0000, 0.0000, 0.0431, 0.0627, 0.0275, 0.1725, 0.3686,\n",
              "         0.2196, 0.2588, 0.2627, 0.2078, 0.2863, 0.2706, 0.2078, 0.2157, 0.2314,\n",
              "         0.2627, 0.2471, 0.0667, 0.0353, 0.0549, 0.0275, 0.0000, 0.0000, 0.0000,\n",
              "         0.0000],\n",
              "        [0.0000, 0.0000, 0.0000, 0.0000, 0.0549, 0.0667, 0.0118, 0.2667, 0.3608,\n",
              "         0.2196, 0.2745, 0.2510, 0.2078, 0.2980, 0.2902, 0.2118, 0.2196, 0.2118,\n",
              "         0.2627, 0.2902, 0.0431, 0.0275, 0.0392, 0.0549, 0.0000, 0.0000, 0.0000,\n",
              "         0.0000],\n",
              "        [0.0000, 0.0000, 0.0000, 0.0000, 0.0588, 0.0824, 0.0000, 0.3529, 0.4784,\n",
              "         0.2235, 0.2627, 0.2471, 0.2118, 0.2941, 0.3020, 0.2118, 0.2157, 0.2078,\n",
              "         0.2235, 0.2706, 0.0863, 0.0275, 0.0471, 0.0549, 0.0000, 0.0000, 0.0000,\n",
              "         0.0000],\n",
              "        [0.0000, 0.0000, 0.0000, 0.0000, 0.0627, 0.0784, 0.0078, 0.2510, 0.4157,\n",
              "         0.2314, 0.2510, 0.2510, 0.2118, 0.2980, 0.2941, 0.2431, 0.2196, 0.2118,\n",
              "         0.2157, 0.2745, 0.1294, 0.0196, 0.0588, 0.0549, 0.0000, 0.0000, 0.0000,\n",
              "         0.0000],\n",
              "        [0.0000, 0.0000, 0.0000, 0.0000, 0.0627, 0.0902, 0.0157, 0.2588, 0.3020,\n",
              "         0.2235, 0.2627, 0.2431, 0.2157, 0.3020, 0.3020, 0.2706, 0.2824, 0.1961,\n",
              "         0.2000, 0.2863, 0.1843, 0.0118, 0.0549, 0.0627, 0.0000, 0.0000, 0.0000,\n",
              "         0.0000],\n",
              "        [0.0000, 0.0000, 0.0000, 0.0000, 0.0706, 0.1059, 0.0157, 0.2510, 0.2863,\n",
              "         0.2588, 0.2667, 0.2392, 0.2157, 0.2941, 0.2902, 0.2078, 0.2745, 0.2314,\n",
              "         0.2157, 0.2745, 0.2353, 0.0078, 0.0471, 0.0706, 0.0000, 0.0000, 0.0000,\n",
              "         0.0000],\n",
              "        [0.0000, 0.0000, 0.0000, 0.0000, 0.0824, 0.1059, 0.0196, 0.2392, 0.2745,\n",
              "         0.2745, 0.2471, 0.2392, 0.2196, 0.2980, 0.3333, 0.2471, 0.2510, 0.2706,\n",
              "         0.2588, 0.2706, 0.2745, 0.0118, 0.0667, 0.0784, 0.0000, 0.0000, 0.0000,\n",
              "         0.0000],\n",
              "        [0.0000, 0.0000, 0.0000, 0.0000, 0.0863, 0.1098, 0.0196, 0.2471, 0.2706,\n",
              "         0.2627, 0.2510, 0.2314, 0.2118, 0.3412, 0.3333, 0.2980, 0.2902, 0.2510,\n",
              "         0.2745, 0.2667, 0.3176, 0.0118, 0.0667, 0.0824, 0.0000, 0.0000, 0.0000,\n",
              "         0.0000],\n",
              "        [0.0000, 0.0000, 0.0000, 0.0000, 0.0824, 0.1216, 0.0157, 0.2941, 0.2824,\n",
              "         0.3137, 0.2392, 0.2431, 0.2157, 0.4000, 0.3451, 0.2392, 0.3333, 0.2706,\n",
              "         0.2627, 0.2627, 0.3216, 0.0196, 0.0863, 0.0902, 0.0000, 0.0000, 0.0000,\n",
              "         0.0000],\n",
              "        [0.0000, 0.0000, 0.0000, 0.0000, 0.0902, 0.1333, 0.0196, 0.3686, 0.2980,\n",
              "         0.3137, 0.2667, 0.3216, 0.2078, 0.3961, 0.3686, 0.2314, 0.3608, 0.3451,\n",
              "         0.2980, 0.2980, 0.3098, 0.0196, 0.1059, 0.0902, 0.0000, 0.0000, 0.0000,\n",
              "         0.0000],\n",
              "        [0.0000, 0.0000, 0.0000, 0.0000, 0.0706, 0.1333, 0.0588, 0.2392, 0.2667,\n",
              "         0.2588, 0.2196, 0.3098, 0.2510, 0.4000, 0.3412, 0.2510, 0.2510, 0.2588,\n",
              "         0.2588, 0.2235, 0.1647, 0.0431, 0.1137, 0.0863, 0.0000, 0.0000, 0.0000,\n",
              "         0.0000],\n",
              "        [0.0000, 0.0000, 0.0000, 0.0000, 0.0627, 0.1176, 0.0941, 0.0471, 0.0314,\n",
              "         0.0275, 0.0314, 0.0941, 0.2667, 0.4039, 0.3333, 0.2118, 0.0000, 0.0157,\n",
              "         0.0588, 0.0157, 0.0706, 0.0863, 0.1294, 0.0902, 0.0000, 0.0000, 0.0000,\n",
              "         0.0000],\n",
              "        [0.0000, 0.0000, 0.0000, 0.0000, 0.0902, 0.0667, 0.1569, 0.1922, 0.0431,\n",
              "         0.0941, 0.0431, 0.1333, 0.2941, 0.4196, 0.4196, 0.3020, 0.0588, 0.0549,\n",
              "         0.0980, 0.0549, 0.1059, 0.1098, 0.1059, 0.0784, 0.0000, 0.0000, 0.0000,\n",
              "         0.0000],\n",
              "        [0.0000, 0.0000, 0.0000, 0.0000, 0.0902, 0.1059, 0.2627, 0.1569, 0.0118,\n",
              "         0.0863, 0.0275, 0.1725, 0.3333, 0.3490, 0.3412, 0.3412, 0.1176, 0.0784,\n",
              "         0.0902, 0.0157, 0.1961, 0.2706, 0.1137, 0.0784, 0.0000, 0.0000, 0.0000,\n",
              "         0.0000],\n",
              "        [0.0000, 0.0000, 0.0000, 0.0000, 0.0118, 0.0627, 0.2157, 0.1059, 0.0000,\n",
              "         0.0000, 0.0000, 0.0000, 0.0000, 0.0000, 0.0000, 0.0000, 0.0000, 0.0000,\n",
              "         0.0000, 0.0000, 0.1098, 0.2667, 0.0863, 0.0353, 0.0000, 0.0000, 0.0000,\n",
              "         0.0000],\n",
              "        [0.0000, 0.0000, 0.0000, 0.0000, 0.0118, 0.0588, 0.1725, 0.1098, 0.0000,\n",
              "         0.0000, 0.0000, 0.0000, 0.0000, 0.0000, 0.0000, 0.0000, 0.0000, 0.0000,\n",
              "         0.0000, 0.0000, 0.0980, 0.2471, 0.0588, 0.0353, 0.0000, 0.0000, 0.0000,\n",
              "         0.0000]])"
            ]
          },
          "execution_count": 66,
          "metadata": {},
          "output_type": "execute_result"
        }
      ],
      "source": [
        "images[0].squeeze()"
      ]
    },
    {
      "cell_type": "code",
      "execution_count": 67,
      "metadata": {
        "colab": {
          "base_uri": "https://localhost:8080/"
        },
        "id": "ZsMmeslbjHSP",
        "outputId": "dd9da886-aaf2-4b54-fe86-5a9192715156"
      },
      "outputs": [
        {
          "data": {
            "text/plain": [
              "tensor([[[[0.0000, 0.0000, 0.0000, 0.0000, 0.0000, 0.0000, 0.0039, 0.0000,\n",
              "           0.0000, 0.0000, 0.0000, 0.0118, 0.2196, 0.0706, 0.2588, 0.3608,\n",
              "           0.0000, 0.0000, 0.0000, 0.0039, 0.0039, 0.0000, 0.0000, 0.0000,\n",
              "           0.0000, 0.0000, 0.0000, 0.0000],\n",
              "          [0.0000, 0.0000, 0.0000, 0.0000, 0.0000, 0.0000, 0.0000, 0.0000,\n",
              "           0.0667, 0.3098, 0.2196, 0.0000, 0.8627, 0.8627, 0.8275, 0.2706,\n",
              "           0.0000, 0.3686, 0.1961, 0.0000, 0.0000, 0.0000, 0.0000, 0.0000,\n",
              "           0.0000, 0.0000, 0.0000, 0.0000],\n",
              "          [0.0000, 0.0000, 0.0000, 0.0000, 0.0039, 0.0000, 0.0118, 0.3137,\n",
              "           0.3765, 0.3608, 0.3137, 0.0392, 0.1216, 1.0000, 0.6235, 0.0000,\n",
              "           0.1686, 0.3412, 0.4118, 0.3608, 0.2078, 0.0000, 0.0039, 0.0000,\n",
              "           0.0000, 0.0000, 0.0000, 0.0000],\n",
              "          [0.0000, 0.0000, 0.0000, 0.0000, 0.0039, 0.0000, 0.3608, 0.3529,\n",
              "           0.2510, 0.2392, 0.2510, 0.2392, 0.1294, 0.2941, 0.1569, 0.1843,\n",
              "           0.2941, 0.2510, 0.2000, 0.2824, 0.5216, 0.1961, 0.0000, 0.0000,\n",
              "           0.0000, 0.0000, 0.0000, 0.0000],\n",
              "          [0.0000, 0.0000, 0.0000, 0.0000, 0.0000, 0.0549, 0.4510, 0.2706,\n",
              "           0.2667, 0.2667, 0.2353, 0.2196, 0.2000, 0.3020, 0.2510, 0.2235,\n",
              "           0.2588, 0.2235, 0.2863, 0.3137, 0.2627, 0.3804, 0.0000, 0.0039,\n",
              "           0.0000, 0.0000, 0.0000, 0.0000],\n",
              "          [0.0000, 0.0000, 0.0000, 0.0000, 0.0000, 0.2314, 0.3647, 0.2706,\n",
              "           0.2627, 0.2471, 0.2667, 0.2353, 0.1961, 0.2706, 0.2431, 0.2157,\n",
              "           0.2314, 0.2627, 0.2902, 0.2000, 0.2000, 0.4314, 0.2000, 0.0000,\n",
              "           0.0000, 0.0000, 0.0000, 0.0000],\n",
              "          [0.0000, 0.0000, 0.0000, 0.0000, 0.0000, 0.1569, 0.3333, 0.2627,\n",
              "           0.2431, 0.2353, 0.2196, 0.2353, 0.1922, 0.2706, 0.2353, 0.2157,\n",
              "           0.2431, 0.2235, 0.2000, 0.1922, 0.3020, 0.2235, 0.0941, 0.0000,\n",
              "           0.0000, 0.0000, 0.0000, 0.0000],\n",
              "          [0.0000, 0.0000, 0.0000, 0.0000, 0.0039, 0.0118, 0.0706, 0.1922,\n",
              "           0.2118, 0.2314, 0.1961, 0.1922, 0.1804, 0.2667, 0.2353, 0.1882,\n",
              "           0.1961, 0.2000, 0.1961, 0.2196, 0.1608, 0.0000, 0.0314, 0.0000,\n",
              "           0.0000, 0.0000, 0.0000, 0.0000],\n",
              "          [0.0000, 0.0000, 0.0000, 0.0000, 0.0039, 0.0784, 0.0392, 0.1843,\n",
              "           0.2157, 0.1961, 0.2078, 0.2078, 0.1725, 0.2824, 0.2431, 0.1961,\n",
              "           0.1961, 0.1922, 0.2078, 0.2078, 0.0588, 0.0196, 0.0784, 0.0039,\n",
              "           0.0000, 0.0000, 0.0000, 0.0000],\n",
              "          [0.0000, 0.0000, 0.0000, 0.0000, 0.0275, 0.0902, 0.0275, 0.1961,\n",
              "           0.2745, 0.2157, 0.2118, 0.2392, 0.1882, 0.2863, 0.2588, 0.2000,\n",
              "           0.2118, 0.2078, 0.2000, 0.2235, 0.0627, 0.0275, 0.0627, 0.0196,\n",
              "           0.0000, 0.0000, 0.0000, 0.0000],\n",
              "          [0.0000, 0.0000, 0.0000, 0.0000, 0.0196, 0.0902, 0.0275, 0.1647,\n",
              "           0.2588, 0.2000, 0.2118, 0.2314, 0.2000, 0.2824, 0.2627, 0.1961,\n",
              "           0.2157, 0.2392, 0.1882, 0.2353, 0.0627, 0.0353, 0.0549, 0.0275,\n",
              "           0.0000, 0.0000, 0.0000, 0.0000],\n",
              "          [0.0000, 0.0000, 0.0000, 0.0000, 0.0314, 0.0824, 0.0275, 0.1412,\n",
              "           0.2902, 0.1922, 0.2431, 0.2471, 0.2000, 0.2824, 0.2667, 0.2000,\n",
              "           0.2118, 0.2471, 0.2118, 0.2078, 0.0549, 0.0353, 0.0588, 0.0196,\n",
              "           0.0000, 0.0000, 0.0000, 0.0000],\n",
              "          [0.0000, 0.0000, 0.0000, 0.0000, 0.0431, 0.0627, 0.0275, 0.1725,\n",
              "           0.3686, 0.2196, 0.2588, 0.2627, 0.2078, 0.2863, 0.2706, 0.2078,\n",
              "           0.2157, 0.2314, 0.2627, 0.2471, 0.0667, 0.0353, 0.0549, 0.0275,\n",
              "           0.0000, 0.0000, 0.0000, 0.0000],\n",
              "          [0.0000, 0.0000, 0.0000, 0.0000, 0.0549, 0.0667, 0.0118, 0.2667,\n",
              "           0.3608, 0.2196, 0.2745, 0.2510, 0.2078, 0.2980, 0.2902, 0.2118,\n",
              "           0.2196, 0.2118, 0.2627, 0.2902, 0.0431, 0.0275, 0.0392, 0.0549,\n",
              "           0.0000, 0.0000, 0.0000, 0.0000],\n",
              "          [0.0000, 0.0000, 0.0000, 0.0000, 0.0588, 0.0824, 0.0000, 0.3529,\n",
              "           0.4784, 0.2235, 0.2627, 0.2471, 0.2118, 0.2941, 0.3020, 0.2118,\n",
              "           0.2157, 0.2078, 0.2235, 0.2706, 0.0863, 0.0275, 0.0471, 0.0549,\n",
              "           0.0000, 0.0000, 0.0000, 0.0000],\n",
              "          [0.0000, 0.0000, 0.0000, 0.0000, 0.0627, 0.0784, 0.0078, 0.2510,\n",
              "           0.4157, 0.2314, 0.2510, 0.2510, 0.2118, 0.2980, 0.2941, 0.2431,\n",
              "           0.2196, 0.2118, 0.2157, 0.2745, 0.1294, 0.0196, 0.0588, 0.0549,\n",
              "           0.0000, 0.0000, 0.0000, 0.0000],\n",
              "          [0.0000, 0.0000, 0.0000, 0.0000, 0.0627, 0.0902, 0.0157, 0.2588,\n",
              "           0.3020, 0.2235, 0.2627, 0.2431, 0.2157, 0.3020, 0.3020, 0.2706,\n",
              "           0.2824, 0.1961, 0.2000, 0.2863, 0.1843, 0.0118, 0.0549, 0.0627,\n",
              "           0.0000, 0.0000, 0.0000, 0.0000],\n",
              "          [0.0000, 0.0000, 0.0000, 0.0000, 0.0706, 0.1059, 0.0157, 0.2510,\n",
              "           0.2863, 0.2588, 0.2667, 0.2392, 0.2157, 0.2941, 0.2902, 0.2078,\n",
              "           0.2745, 0.2314, 0.2157, 0.2745, 0.2353, 0.0078, 0.0471, 0.0706,\n",
              "           0.0000, 0.0000, 0.0000, 0.0000],\n",
              "          [0.0000, 0.0000, 0.0000, 0.0000, 0.0824, 0.1059, 0.0196, 0.2392,\n",
              "           0.2745, 0.2745, 0.2471, 0.2392, 0.2196, 0.2980, 0.3333, 0.2471,\n",
              "           0.2510, 0.2706, 0.2588, 0.2706, 0.2745, 0.0118, 0.0667, 0.0784,\n",
              "           0.0000, 0.0000, 0.0000, 0.0000],\n",
              "          [0.0000, 0.0000, 0.0000, 0.0000, 0.0863, 0.1098, 0.0196, 0.2471,\n",
              "           0.2706, 0.2627, 0.2510, 0.2314, 0.2118, 0.3412, 0.3333, 0.2980,\n",
              "           0.2902, 0.2510, 0.2745, 0.2667, 0.3176, 0.0118, 0.0667, 0.0824,\n",
              "           0.0000, 0.0000, 0.0000, 0.0000],\n",
              "          [0.0000, 0.0000, 0.0000, 0.0000, 0.0824, 0.1216, 0.0157, 0.2941,\n",
              "           0.2824, 0.3137, 0.2392, 0.2431, 0.2157, 0.4000, 0.3451, 0.2392,\n",
              "           0.3333, 0.2706, 0.2627, 0.2627, 0.3216, 0.0196, 0.0863, 0.0902,\n",
              "           0.0000, 0.0000, 0.0000, 0.0000],\n",
              "          [0.0000, 0.0000, 0.0000, 0.0000, 0.0902, 0.1333, 0.0196, 0.3686,\n",
              "           0.2980, 0.3137, 0.2667, 0.3216, 0.2078, 0.3961, 0.3686, 0.2314,\n",
              "           0.3608, 0.3451, 0.2980, 0.2980, 0.3098, 0.0196, 0.1059, 0.0902,\n",
              "           0.0000, 0.0000, 0.0000, 0.0000],\n",
              "          [0.0000, 0.0000, 0.0000, 0.0000, 0.0706, 0.1333, 0.0588, 0.2392,\n",
              "           0.2667, 0.2588, 0.2196, 0.3098, 0.2510, 0.4000, 0.3412, 0.2510,\n",
              "           0.2510, 0.2588, 0.2588, 0.2235, 0.1647, 0.0431, 0.1137, 0.0863,\n",
              "           0.0000, 0.0000, 0.0000, 0.0000],\n",
              "          [0.0000, 0.0000, 0.0000, 0.0000, 0.0627, 0.1176, 0.0941, 0.0471,\n",
              "           0.0314, 0.0275, 0.0314, 0.0941, 0.2667, 0.4039, 0.3333, 0.2118,\n",
              "           0.0000, 0.0157, 0.0588, 0.0157, 0.0706, 0.0863, 0.1294, 0.0902,\n",
              "           0.0000, 0.0000, 0.0000, 0.0000],\n",
              "          [0.0000, 0.0000, 0.0000, 0.0000, 0.0902, 0.0667, 0.1569, 0.1922,\n",
              "           0.0431, 0.0941, 0.0431, 0.1333, 0.2941, 0.4196, 0.4196, 0.3020,\n",
              "           0.0588, 0.0549, 0.0980, 0.0549, 0.1059, 0.1098, 0.1059, 0.0784,\n",
              "           0.0000, 0.0000, 0.0000, 0.0000],\n",
              "          [0.0000, 0.0000, 0.0000, 0.0000, 0.0902, 0.1059, 0.2627, 0.1569,\n",
              "           0.0118, 0.0863, 0.0275, 0.1725, 0.3333, 0.3490, 0.3412, 0.3412,\n",
              "           0.1176, 0.0784, 0.0902, 0.0157, 0.1961, 0.2706, 0.1137, 0.0784,\n",
              "           0.0000, 0.0000, 0.0000, 0.0000],\n",
              "          [0.0000, 0.0000, 0.0000, 0.0000, 0.0118, 0.0627, 0.2157, 0.1059,\n",
              "           0.0000, 0.0000, 0.0000, 0.0000, 0.0000, 0.0000, 0.0000, 0.0000,\n",
              "           0.0000, 0.0000, 0.0000, 0.0000, 0.1098, 0.2667, 0.0863, 0.0353,\n",
              "           0.0000, 0.0000, 0.0000, 0.0000],\n",
              "          [0.0000, 0.0000, 0.0000, 0.0000, 0.0118, 0.0588, 0.1725, 0.1098,\n",
              "           0.0000, 0.0000, 0.0000, 0.0000, 0.0000, 0.0000, 0.0000, 0.0000,\n",
              "           0.0000, 0.0000, 0.0000, 0.0000, 0.0980, 0.2471, 0.0588, 0.0353,\n",
              "           0.0000, 0.0000, 0.0000, 0.0000]]]])"
            ]
          },
          "execution_count": 67,
          "metadata": {},
          "output_type": "execute_result"
        }
      ],
      "source": [
        "images[0].unsqueeze(dim=1)"
      ]
    },
    {
      "cell_type": "code",
      "execution_count": 68,
      "metadata": {
        "id": "zxT_dPdqjKm3"
      },
      "outputs": [],
      "source": [
        "# refer handwritten notebook for more details\n",
        "\n",
        "class CNN(nn.Module):\n",
        "  def __init__(self, in_, out_):\n",
        "    super(CNN, self).__init__()\n",
        "\n",
        "    # out_channels -> no.of filters/ expected no.of fetaure maps\n",
        "    self.conv_pool_01 = nn.Sequential(\n",
        "        nn.Conv2d(in_channels=in_, out_channels=8, kernel_size=5, stride=1, padding=0),\n",
        "        nn.ReLU(),\n",
        "        nn.MaxPool2d(kernel_size=2, stride=2)\n",
        "    )\n",
        "    # in_channels -> previous layer ouput feature maps\n",
        "    self.conv_pool_02 = nn.Sequential(\n",
        "        nn.Conv2d(in_channels=8, out_channels=16, kernel_size=5, stride=1, padding=0),\n",
        "        nn.ReLU(),\n",
        "        nn.MaxPool2d(kernel_size=2, stride=2)\n",
        "    )\n",
        "\n",
        "    self.Flatten = nn.Flatten()\n",
        "    # linear -> Dense\n",
        "    # FC -> fully connected layer\n",
        "    self.FC_01 = nn.Linear(in_features=16*4*4, out_features=128)\n",
        "    self.FC_02 = nn.Linear(in_features=128, out_features=64)\n",
        "    self.FC_03 = nn.Linear(in_features=64, out_features=out_)\n",
        "\n",
        "\n",
        "\n",
        "  def forward(self, x):\n",
        "    x = self.conv_pool_01(x)\n",
        "    x = self.conv_pool_02(x)\n",
        "    x = self.Flatten(x)\n",
        "    x = self.FC_01(x)\n",
        "    x = F.relu(x)\n",
        "    x = self.FC_02(x)\n",
        "    x = F.relu(x)    \n",
        "    x = self.FC_03(x)\n",
        "    return x\n",
        "\n",
        "\n"
      ]
    },
    {
      "cell_type": "code",
      "execution_count": 69,
      "metadata": {
        "colab": {
          "base_uri": "https://localhost:8080/"
        },
        "id": "sDMgl_T7yedP",
        "outputId": "33d57141-2263-4e68-f720-70816d6d92d4"
      },
      "outputs": [
        {
          "name": "stdout",
          "output_type": "stream",
          "text": [
            "CNN(\n",
            "  (conv_pool_01): Sequential(\n",
            "    (0): Conv2d(1, 8, kernel_size=(5, 5), stride=(1, 1))\n",
            "    (1): ReLU()\n",
            "    (2): MaxPool2d(kernel_size=2, stride=2, padding=0, dilation=1, ceil_mode=False)\n",
            "  )\n",
            "  (conv_pool_02): Sequential(\n",
            "    (0): Conv2d(8, 16, kernel_size=(5, 5), stride=(1, 1))\n",
            "    (1): ReLU()\n",
            "    (2): MaxPool2d(kernel_size=2, stride=2, padding=0, dilation=1, ceil_mode=False)\n",
            "  )\n",
            "  (Flatten): Flatten(start_dim=1, end_dim=-1)\n",
            "  (FC_01): Linear(in_features=256, out_features=128, bias=True)\n",
            "  (FC_02): Linear(in_features=128, out_features=64, bias=True)\n",
            "  (FC_03): Linear(in_features=64, out_features=10, bias=True)\n",
            ")\n"
          ]
        }
      ],
      "source": [
        "model = CNN(1, 10) # CNN(input_channel, output_target_values)\n",
        "\n",
        "print(model)"
      ]
    },
    {
      "cell_type": "code",
      "execution_count": 70,
      "metadata": {
        "colab": {
          "base_uri": "https://localhost:8080/"
        },
        "id": "s_mQU6_u0GWs",
        "outputId": "d02f8425-e994-4fb0-edfc-f57c83ead968"
      },
      "outputs": [
        {
          "data": {
            "text/plain": [
              "Flatten(start_dim=1, end_dim=-1)"
            ]
          },
          "execution_count": 70,
          "metadata": {},
          "output_type": "execute_result"
        }
      ],
      "source": [
        "model.Flatten"
      ]
    },
    {
      "cell_type": "code",
      "execution_count": 71,
      "metadata": {
        "colab": {
          "base_uri": "https://localhost:8080/"
        },
        "id": "bslHdJj42-To",
        "outputId": "6a1bc42b-7a7d-4a12-a40f-7d3aa137498c"
      },
      "outputs": [
        {
          "data": {
            "text/plain": [
              "Sequential(\n",
              "  (0): Conv2d(8, 16, kernel_size=(5, 5), stride=(1, 1))\n",
              "  (1): ReLU()\n",
              "  (2): MaxPool2d(kernel_size=2, stride=2, padding=0, dilation=1, ceil_mode=False)\n",
              ")"
            ]
          },
          "execution_count": 71,
          "metadata": {},
          "output_type": "execute_result"
        }
      ],
      "source": [
        "model.conv_pool_02"
      ]
    },
    {
      "cell_type": "code",
      "execution_count": 72,
      "metadata": {
        "colab": {
          "base_uri": "https://localhost:8080/"
        },
        "id": "wOQzrErs3EfS",
        "outputId": "fb634761-c76b-4b50-f9a4-8587af801c7f"
      },
      "outputs": [
        {
          "data": {
            "text/plain": [
              "Linear(in_features=256, out_features=128, bias=True)"
            ]
          },
          "execution_count": 72,
          "metadata": {},
          "output_type": "execute_result"
        }
      ],
      "source": [
        "model.FC_01"
      ]
    },
    {
      "cell_type": "code",
      "execution_count": 73,
      "metadata": {
        "colab": {
          "base_uri": "https://localhost:8080/"
        },
        "id": "p6_q_WIt3V3K",
        "outputId": "c78f90b7-68c1-4912-95ac-e6d54c56eeae"
      },
      "outputs": [
        {
          "data": {
            "text/plain": [
              "<generator object Module.parameters at 0x7f52ed9ea150>"
            ]
          },
          "execution_count": 73,
          "metadata": {},
          "output_type": "execute_result"
        }
      ],
      "source": [
        "model.parameters()"
      ]
    },
    {
      "cell_type": "code",
      "execution_count": 74,
      "metadata": {
        "colab": {
          "base_uri": "https://localhost:8080/"
        },
        "id": "2YWle-Ds3F3E",
        "outputId": "6e29cfec-41e0-4fd6-a4e1-b838afcc5a2e"
      },
      "outputs": [
        {
          "data": {
            "text/plain": [
              "False"
            ]
          },
          "execution_count": 74,
          "metadata": {},
          "output_type": "execute_result"
        }
      ],
      "source": [
        "# verify model is using CUDA or not\n",
        "next(model.parameters()).is_cuda"
      ]
    },
    {
      "cell_type": "code",
      "execution_count": 75,
      "metadata": {
        "colab": {
          "base_uri": "https://localhost:8080/"
        },
        "id": "0TCJABmg3T6h",
        "outputId": "81474fc5-4921-4fd5-be27-1c46024ea45c"
      },
      "outputs": [
        {
          "data": {
            "text/plain": [
              "CNN(\n",
              "  (conv_pool_01): Sequential(\n",
              "    (0): Conv2d(1, 8, kernel_size=(5, 5), stride=(1, 1))\n",
              "    (1): ReLU()\n",
              "    (2): MaxPool2d(kernel_size=2, stride=2, padding=0, dilation=1, ceil_mode=False)\n",
              "  )\n",
              "  (conv_pool_02): Sequential(\n",
              "    (0): Conv2d(8, 16, kernel_size=(5, 5), stride=(1, 1))\n",
              "    (1): ReLU()\n",
              "    (2): MaxPool2d(kernel_size=2, stride=2, padding=0, dilation=1, ceil_mode=False)\n",
              "  )\n",
              "  (Flatten): Flatten(start_dim=1, end_dim=-1)\n",
              "  (FC_01): Linear(in_features=256, out_features=128, bias=True)\n",
              "  (FC_02): Linear(in_features=128, out_features=64, bias=True)\n",
              "  (FC_03): Linear(in_features=64, out_features=10, bias=True)\n",
              ")"
            ]
          },
          "execution_count": 75,
          "metadata": {},
          "output_type": "execute_result"
        }
      ],
      "source": [
        "# to make model to use CUDA\n",
        "model.to(config.DEVICE)"
      ]
    },
    {
      "cell_type": "code",
      "execution_count": 76,
      "metadata": {
        "colab": {
          "base_uri": "https://localhost:8080/"
        },
        "id": "J999G6Hf3rk2",
        "outputId": "a31600ab-a40a-4f5c-d93d-c6d85d8bcc63"
      },
      "outputs": [
        {
          "data": {
            "text/plain": [
              "True"
            ]
          },
          "execution_count": 76,
          "metadata": {},
          "output_type": "execute_result"
        }
      ],
      "source": [
        "# now verify after making model to use CUDA.. means it will use GPU\n",
        "next(model.parameters()).is_cuda"
      ]
    },
    {
      "cell_type": "markdown",
      "metadata": {
        "id": "NRrxm1To4Kuq"
      },
      "source": [
        "## Count the no. of trainable parameters"
      ]
    },
    {
      "cell_type": "code",
      "execution_count": 77,
      "metadata": {
        "colab": {
          "base_uri": "https://localhost:8080/",
          "height": 398
        },
        "id": "0Hzyj3mI34_T",
        "outputId": "078bd2ec-e875-4f92-c141-cc19d261a7e0"
      },
      "outputs": [
        {
          "data": {
            "text/html": [
              "<style type=\"text/css\">\n",
              "</style>\n",
              "<table id=\"T_4f39c_\" class=\"dataframe\">\n",
              "  <caption>Total parameters: {'trainable': 45226, 'non_trainable': 0}</caption>\n",
              "  <thead>\n",
              "    <tr>\n",
              "      <th class=\"blank level0\" >&nbsp;</th>\n",
              "      <th class=\"col_heading level0 col0\" >Modules</th>\n",
              "      <th class=\"col_heading level0 col1\" >Parameters</th>\n",
              "    </tr>\n",
              "  </thead>\n",
              "  <tbody>\n",
              "    <tr>\n",
              "      <th id=\"T_4f39c_level0_row0\" class=\"row_heading level0 row0\" >0</th>\n",
              "      <td id=\"T_4f39c_row0_col0\" class=\"data row0 col0\" >conv_pool_01.0.weight</td>\n",
              "      <td id=\"T_4f39c_row0_col1\" class=\"data row0 col1\" >200</td>\n",
              "    </tr>\n",
              "    <tr>\n",
              "      <th id=\"T_4f39c_level0_row1\" class=\"row_heading level0 row1\" >1</th>\n",
              "      <td id=\"T_4f39c_row1_col0\" class=\"data row1 col0\" >conv_pool_01.0.bias</td>\n",
              "      <td id=\"T_4f39c_row1_col1\" class=\"data row1 col1\" >8</td>\n",
              "    </tr>\n",
              "    <tr>\n",
              "      <th id=\"T_4f39c_level0_row2\" class=\"row_heading level0 row2\" >2</th>\n",
              "      <td id=\"T_4f39c_row2_col0\" class=\"data row2 col0\" >conv_pool_02.0.weight</td>\n",
              "      <td id=\"T_4f39c_row2_col1\" class=\"data row2 col1\" >3200</td>\n",
              "    </tr>\n",
              "    <tr>\n",
              "      <th id=\"T_4f39c_level0_row3\" class=\"row_heading level0 row3\" >3</th>\n",
              "      <td id=\"T_4f39c_row3_col0\" class=\"data row3 col0\" >conv_pool_02.0.bias</td>\n",
              "      <td id=\"T_4f39c_row3_col1\" class=\"data row3 col1\" >16</td>\n",
              "    </tr>\n",
              "    <tr>\n",
              "      <th id=\"T_4f39c_level0_row4\" class=\"row_heading level0 row4\" >4</th>\n",
              "      <td id=\"T_4f39c_row4_col0\" class=\"data row4 col0\" >FC_01.weight</td>\n",
              "      <td id=\"T_4f39c_row4_col1\" class=\"data row4 col1\" >32768</td>\n",
              "    </tr>\n",
              "    <tr>\n",
              "      <th id=\"T_4f39c_level0_row5\" class=\"row_heading level0 row5\" >5</th>\n",
              "      <td id=\"T_4f39c_row5_col0\" class=\"data row5 col0\" >FC_01.bias</td>\n",
              "      <td id=\"T_4f39c_row5_col1\" class=\"data row5 col1\" >128</td>\n",
              "    </tr>\n",
              "    <tr>\n",
              "      <th id=\"T_4f39c_level0_row6\" class=\"row_heading level0 row6\" >6</th>\n",
              "      <td id=\"T_4f39c_row6_col0\" class=\"data row6 col0\" >FC_02.weight</td>\n",
              "      <td id=\"T_4f39c_row6_col1\" class=\"data row6 col1\" >8192</td>\n",
              "    </tr>\n",
              "    <tr>\n",
              "      <th id=\"T_4f39c_level0_row7\" class=\"row_heading level0 row7\" >7</th>\n",
              "      <td id=\"T_4f39c_row7_col0\" class=\"data row7 col0\" >FC_02.bias</td>\n",
              "      <td id=\"T_4f39c_row7_col1\" class=\"data row7 col1\" >64</td>\n",
              "    </tr>\n",
              "    <tr>\n",
              "      <th id=\"T_4f39c_level0_row8\" class=\"row_heading level0 row8\" >8</th>\n",
              "      <td id=\"T_4f39c_row8_col0\" class=\"data row8 col0\" >FC_03.weight</td>\n",
              "      <td id=\"T_4f39c_row8_col1\" class=\"data row8 col1\" >640</td>\n",
              "    </tr>\n",
              "    <tr>\n",
              "      <th id=\"T_4f39c_level0_row9\" class=\"row_heading level0 row9\" >9</th>\n",
              "      <td id=\"T_4f39c_row9_col0\" class=\"data row9 col0\" >FC_03.bias</td>\n",
              "      <td id=\"T_4f39c_row9_col1\" class=\"data row9 col1\" >10</td>\n",
              "    </tr>\n",
              "  </tbody>\n",
              "</table>\n"
            ],
            "text/plain": [
              "<pandas.io.formats.style.Styler at 0x7f52ee350c90>"
            ]
          },
          "execution_count": 77,
          "metadata": {},
          "output_type": "execute_result"
        }
      ],
      "source": [
        "def count_params(model):\n",
        "  model_params = {\"Modules\": list(), \"Parameters\": list()}\n",
        "  total = {\"trainable\": 0, \"non_trainable\": 0} \n",
        "  for name, parameters in model.named_parameters():\n",
        "    param = parameters.numel()\n",
        "    if not parameters.requires_grad:\n",
        "      total[\"non_trainable\"] += param\n",
        "      continue\n",
        "    model_params[\"Modules\"].append(name)\n",
        "    model_params[\"Parameters\"].append(param)\n",
        "    total[\"trainable\"] += param\n",
        "  df = pd.DataFrame(model_params)\n",
        "  df = df.style.set_caption(f\"Total parameters: {total}\")\n",
        "  return df\n",
        "\n",
        "count_params(model)"
      ]
    },
    {
      "cell_type": "code",
      "execution_count": 77,
      "metadata": {
        "id": "FyPtyuSvE2oN"
      },
      "outputs": [],
      "source": []
    },
    {
      "cell_type": "markdown",
      "metadata": {
        "id": "NiuVUxPy7dgW"
      },
      "source": [
        "## Training loop"
      ]
    },
    {
      "cell_type": "code",
      "execution_count": 78,
      "metadata": {
        "colab": {
          "base_uri": "https://localhost:8080/"
        },
        "id": "Adis0I0-E4UV",
        "outputId": "77ce15ee-2d44-4d90-f33e-d5e9d526c3b7"
      },
      "outputs": [
        {
          "data": {
            "text/plain": [
              "1875.0"
            ]
          },
          "execution_count": 78,
          "metadata": {},
          "output_type": "execute_result"
        }
      ],
      "source": [
        "60000/32"
      ]
    },
    {
      "cell_type": "code",
      "execution_count": 79,
      "metadata": {
        "id": "jebE0gKnK7nk"
      },
      "outputs": [],
      "source": [
        "criterion = nn.CrossEntropyLoss() # loss function\n",
        "optimizer = torch.optim.Adam(model.parameters(), lr=config.LEARNING_RATE) # Adam optimizer"
      ]
    },
    {
      "cell_type": "code",
      "execution_count": 80,
      "metadata": {
        "colab": {
          "base_uri": "https://localhost:8080/"
        },
        "id": "iKMChJekLl_2",
        "outputId": "24ddf336-e5dc-4042-a92a-001cd608ac44"
      },
      "outputs": [
        {
          "data": {
            "text/plain": [
              "1875"
            ]
          },
          "execution_count": 80,
          "metadata": {},
          "output_type": "execute_result"
        }
      ],
      "source": [
        "len(train_data_loader)  ## STEPS PER EPOCH "
      ]
    },
    {
      "cell_type": "code",
      "execution_count": 81,
      "metadata": {
        "colab": {
          "base_uri": "https://localhost:8080/"
        },
        "id": "kGpq4a0W5Lm0",
        "outputId": "f83ba8a5-147e-41dc-c20f-8f0e683cd907"
      },
      "outputs": [
        {
          "name": "stderr",
          "output_type": "stream",
          "text": [
            "Epoch 1/10: 100%|██████████| 1875/1875 [00:48<00:00, 39.06it/s, loss=0.366]\n",
            "Epoch 2/10: 100%|██████████| 1875/1875 [00:51<00:00, 36.42it/s, loss=0.448]\n",
            "Epoch 3/10: 100%|██████████| 1875/1875 [00:40<00:00, 46.71it/s, loss=0.231]\n",
            "Epoch 4/10: 100%|██████████| 1875/1875 [00:47<00:00, 39.58it/s, loss=0.539]\n",
            "Epoch 5/10: 100%|██████████| 1875/1875 [00:42<00:00, 44.27it/s, loss=0.288]\n",
            "Epoch 6/10: 100%|██████████| 1875/1875 [00:41<00:00, 45.49it/s, loss=0.35]\n",
            "Epoch 7/10: 100%|██████████| 1875/1875 [00:42<00:00, 44.16it/s, loss=0.311]\n",
            "Epoch 8/10: 100%|██████████| 1875/1875 [00:40<00:00, 46.20it/s, loss=0.558]\n",
            "Epoch 9/10: 100%|██████████| 1875/1875 [00:40<00:00, 46.30it/s, loss=0.265]\n",
            "Epoch 10/10: 100%|██████████| 1875/1875 [00:39<00:00, 46.96it/s, loss=0.37]\n"
          ]
        }
      ],
      "source": [
        "for epoch in range(config.EPOCH):\n",
        "  with tqdm(train_data_loader) as tqdm_epoch:\n",
        "    for images, labels in tqdm_epoch:\n",
        "      tqdm_epoch.set_description(f\"Epoch {epoch + 1}/{config.EPOCH}\")\n",
        "\n",
        "      # we will be getting images batch by batch\n",
        "      # put the images on device\n",
        "      # eventhough if we have CUDA setup, we need to mention the below lines to use CUDA, else it will use CPU\n",
        "      images = images.to(config.DEVICE)\n",
        "      labels = labels.to(config.DEVICE)\n",
        "\n",
        "      # forward pass\n",
        "      outputs = model(images)\n",
        "      loss = criterion(outputs, labels) # passing the prediction and target to find loss\n",
        "\n",
        "      # backward propogation\n",
        "      optimizer.zero_grad() # past gradient.... making the past gradient to zero\n",
        "      loss.backward()  #calculate the gradients\n",
        "      # update the gradients(update the weight and bias).. ex: W(new) = W(old) - learningrate*(de/dw)\n",
        "      optimizer.step() # weights updated\n",
        "      \n",
        "      # loss -> tensor outcome\n",
        "      # loss.item() -> numerical value\n",
        "      tqdm_epoch.set_postfix(loss=loss.item())\n"
      ]
    },
    {
      "cell_type": "markdown",
      "metadata": {
        "id": "euK6jWH1Ugjq"
      },
      "source": [
        "## Save the model\n"
      ]
    },
    {
      "cell_type": "code",
      "execution_count": 82,
      "metadata": {
        "id": "OICD3h7-Uel8"
      },
      "outputs": [],
      "source": [
        "os.makedirs(\"model_dir\", exist_ok=True)\n",
        "model_file_path = os.path.join(\"model_dir\", \"CNN_model.pth\")\n",
        "torch.save(model, model_file_path)"
      ]
    },
    {
      "cell_type": "markdown",
      "metadata": {
        "id": "5R68WeY1VbRH"
      },
      "source": [
        "## Load the model"
      ]
    },
    {
      "cell_type": "code",
      "execution_count": 83,
      "metadata": {
        "id": "Kf3HajtkVadR"
      },
      "outputs": [],
      "source": [
        "loaded_model = torch.load(model_file_path)"
      ]
    },
    {
      "cell_type": "markdown",
      "metadata": {
        "id": "f7WvxiT27gmC"
      },
      "source": [
        "## Evaluate our model"
      ]
    },
    {
      "cell_type": "code",
      "execution_count": 84,
      "metadata": {
        "id": "GUFc-JFC5MrZ"
      },
      "outputs": [],
      "source": [
        "pred = np.array([])\n",
        "target = np.array([])\n",
        "\n",
        "with torch.no_grad(): # no_grad -> we are NOT going to update anything, when we are doing prediction/evaluationg the model.\n",
        "                      # we dont want to update any gradient\n",
        "  for batch, data in enumerate(test_data_loader):\n",
        "    images = data[0].to(config.DEVICE)\n",
        "    labels = data[1].to(config.DEVICE)\n",
        "\n",
        "    y_pred = model(images)\n",
        "\n",
        "    pred = np.concatenate((pred, torch.argmax(y_pred, 1).cpu().numpy()))\n",
        "    target = np.concatenate((target, labels.cpu().numpy()))"
      ]
    },
    {
      "cell_type": "code",
      "execution_count": 85,
      "metadata": {
        "colab": {
          "base_uri": "https://localhost:8080/"
        },
        "id": "Hrg4uAY5YQJv",
        "outputId": "09adb7aa-2046-41d9-8531-fa590a04712e"
      },
      "outputs": [
        {
          "data": {
            "text/plain": [
              "array([9., 2., 1., ..., 8., 1., 5.])"
            ]
          },
          "execution_count": 85,
          "metadata": {},
          "output_type": "execute_result"
        }
      ],
      "source": [
        "pred"
      ]
    },
    {
      "cell_type": "code",
      "execution_count": 86,
      "metadata": {
        "colab": {
          "base_uri": "https://localhost:8080/"
        },
        "id": "90LbSWieYS63",
        "outputId": "49f471c1-26c1-49b9-d3a7-945c7d6f9ef3"
      },
      "outputs": [
        {
          "data": {
            "text/plain": [
              "array([9., 2., 1., ..., 8., 1., 5.])"
            ]
          },
          "execution_count": 86,
          "metadata": {},
          "output_type": "execute_result"
        }
      ],
      "source": [
        "target"
      ]
    },
    {
      "cell_type": "code",
      "execution_count": 88,
      "metadata": {
        "colab": {
          "base_uri": "https://localhost:8080/"
        },
        "id": "eBIO0BjPYYRN",
        "outputId": "596b7d8c-4567-40e9-a1d5-46e1314bebe4"
      },
      "outputs": [
        {
          "data": {
            "text/plain": [
              "array([[866,   1,  19,  28,   5,   1,  68,   0,  12,   0],\n",
              "       [  4, 968,   0,  21,   0,   0,   5,   0,   2,   0],\n",
              "       [ 17,   0, 796,   6, 113,   0,  61,   0,   7,   0],\n",
              "       [ 34,   4,   6, 872,  48,   0,  35,   0,   1,   0],\n",
              "       [  1,   4, 106,  26, 763,   0,  94,   0,   6,   0],\n",
              "       [  0,   0,   0,   4,   0, 939,   0,  51,   1,   5],\n",
              "       [262,   1, 125,  34,  83,   1, 475,   0,  19,   0],\n",
              "       [  0,   0,   0,   0,   0,   7,   0, 970,   0,  23],\n",
              "       [  1,   1,   5,   3,   2,   2,   9,   4, 973,   0],\n",
              "       [  0,   0,   0,   0,   0,  18,   0,  38,   2, 942]])"
            ]
          },
          "execution_count": 88,
          "metadata": {},
          "output_type": "execute_result"
        }
      ],
      "source": [
        "cm = confusion_matrix(target, pred)\n",
        "cm"
      ]
    },
    {
      "cell_type": "code",
      "execution_count": 89,
      "metadata": {
        "colab": {
          "base_uri": "https://localhost:8080/"
        },
        "id": "849CDhfDZ0pC",
        "outputId": "21a4664f-5f8a-4e3b-debd-c65e559ef1e7"
      },
      "outputs": [
        {
          "data": {
            "text/plain": [
              "dict_values(['T-shirt/top', 'Trouser', 'Pullover', 'Dress', 'Coat', 'Sandal', 'Shirt', 'Sneaker', 'Bag', 'Ankle boot'])"
            ]
          },
          "execution_count": 89,
          "metadata": {},
          "output_type": "execute_result"
        }
      ],
      "source": [
        "label_map.values()"
      ]
    },
    {
      "cell_type": "code",
      "execution_count": 90,
      "metadata": {
        "colab": {
          "base_uri": "https://localhost:8080/",
          "height": 610
        },
        "id": "nS-qanMjZ0zN",
        "outputId": "c07a3495-23e8-47bc-ab71-5ad19986113c"
      },
      "outputs": [
        {
          "data": {
            "text/plain": [
              "<matplotlib.axes._subplots.AxesSubplot at 0x7f52ed853a50>"
            ]
          },
          "execution_count": 90,
          "metadata": {},
          "output_type": "execute_result"
        },
        {
          "data": {
            "image/png": "[encoded data removed]",
            "text/plain": [
              "<Figure size 864x720 with 1 Axes>"
            ]
          },
          "metadata": {
            "needs_background": "light"
          },
          "output_type": "display_data"
        }
      ],
      "source": [
        "plt.figure(figsize=(12,10))\n",
        "sns.heatmap(cm, annot=True, fmt='d', xticklabels=label_map.values() , yticklabels=label_map.values(), cbar=False)"
      ]
    },
    {
      "cell_type": "code",
      "execution_count": null,
      "metadata": {
        "id": "rkoEGBXpZ013"
      },
      "outputs": [],
      "source": []
    },
    {
      "cell_type": "markdown",
      "metadata": {
        "id": "H4m6CwA37kty"
      },
      "source": [
        "## prediction on our model"
      ]
    },
    {
      "cell_type": "code",
      "execution_count": 91,
      "metadata": {
        "colab": {
          "base_uri": "https://localhost:8080/"
        },
        "id": "jZBwqJc57jvI",
        "outputId": "b9786aba-ea30-4927-aa74-66d3d5182b78"
      },
      "outputs": [
        {
          "data": {
            "text/plain": [
              "[tensor([[[[0.0000, 0.0000, 0.0000,  ..., 0.0000, 0.0000, 0.0000],\n",
              "           [0.0000, 0.0000, 0.0000,  ..., 0.0000, 0.0000, 0.0000],\n",
              "           [0.0000, 0.0000, 0.0000,  ..., 0.0000, 0.0000, 0.0000],\n",
              "           ...,\n",
              "           [0.0000, 0.0000, 0.0000,  ..., 0.0000, 0.0000, 0.0000],\n",
              "           [0.0000, 0.0000, 0.0000,  ..., 0.0000, 0.0000, 0.0000],\n",
              "           [0.0000, 0.0000, 0.0000,  ..., 0.0000, 0.0000, 0.0000]]],\n",
              " \n",
              " \n",
              "         [[[0.0000, 0.0000, 0.0000,  ..., 0.0000, 0.0000, 0.0000],\n",
              "           [0.0000, 0.0000, 0.0000,  ..., 0.0000, 0.0000, 0.0000],\n",
              "           [0.0000, 0.0000, 0.0000,  ..., 0.0000, 0.0000, 0.0000],\n",
              "           ...,\n",
              "           [0.0000, 0.0000, 0.0000,  ..., 0.0000, 0.0000, 0.0000],\n",
              "           [0.0000, 0.0000, 0.0000,  ..., 0.0000, 0.0000, 0.0000],\n",
              "           [0.0000, 0.0000, 0.0000,  ..., 0.0000, 0.0000, 0.0000]]],\n",
              " \n",
              " \n",
              "         [[[0.0000, 0.0000, 0.0000,  ..., 0.0000, 0.0000, 0.0000],\n",
              "           [0.0000, 0.0000, 0.0000,  ..., 0.0000, 0.0000, 0.0000],\n",
              "           [0.0000, 0.0000, 0.0000,  ..., 0.0000, 0.0000, 0.0000],\n",
              "           ...,\n",
              "           [0.0000, 0.0000, 0.0000,  ..., 0.0000, 0.0000, 0.0000],\n",
              "           [0.0000, 0.0000, 0.0000,  ..., 0.0000, 0.0000, 0.0000],\n",
              "           [0.0000, 0.0000, 0.0000,  ..., 0.0000, 0.0000, 0.0000]]],\n",
              " \n",
              " \n",
              "         ...,\n",
              " \n",
              " \n",
              "         [[[0.0000, 0.0000, 0.0000,  ..., 0.0000, 0.0000, 0.0000],\n",
              "           [0.0000, 0.0000, 0.0000,  ..., 0.0000, 0.0000, 0.0000],\n",
              "           [0.0000, 0.0000, 0.0000,  ..., 0.0000, 0.0000, 0.0000],\n",
              "           ...,\n",
              "           [0.0000, 0.0000, 0.0000,  ..., 0.0000, 0.0000, 0.0000],\n",
              "           [0.0000, 0.0000, 0.0000,  ..., 0.0000, 0.0000, 0.0000],\n",
              "           [0.0000, 0.0000, 0.0000,  ..., 0.0000, 0.0000, 0.0000]]],\n",
              " \n",
              " \n",
              "         [[[0.0000, 0.0000, 0.0000,  ..., 0.0000, 0.0000, 0.0000],\n",
              "           [0.0000, 0.0000, 0.0000,  ..., 0.0000, 0.0000, 0.0000],\n",
              "           [0.0000, 0.0000, 0.0000,  ..., 0.0000, 0.0000, 0.0000],\n",
              "           ...,\n",
              "           [0.0000, 0.0000, 0.0000,  ..., 0.9020, 0.9608, 0.8000],\n",
              "           [0.0000, 0.0000, 0.0000,  ..., 0.6745, 0.7255, 0.4000],\n",
              "           [0.0000, 0.0000, 0.0000,  ..., 0.0000, 0.0000, 0.0000]]],\n",
              " \n",
              " \n",
              "         [[[0.0000, 0.0000, 0.0000,  ..., 0.0000, 0.0000, 0.0000],\n",
              "           [0.0000, 0.0000, 0.0000,  ..., 0.0000, 0.0000, 0.0000],\n",
              "           [0.0000, 0.0000, 0.0000,  ..., 0.0000, 0.0000, 0.0000],\n",
              "           ...,\n",
              "           [0.0000, 0.0000, 0.0000,  ..., 0.0000, 0.0000, 0.0000],\n",
              "           [0.0000, 0.0000, 0.0000,  ..., 0.0000, 0.0000, 0.0000],\n",
              "           [0.0000, 0.0000, 0.0000,  ..., 0.0000, 0.0000, 0.0000]]]]),\n",
              " tensor([9, 2, 1, 1, 6, 1, 4, 6, 5, 7, 4, 5, 7, 3, 4, 1, 2, 4, 8, 0, 2, 5, 7, 9,\n",
              "         1, 4, 6, 0, 9, 3, 8, 8])]"
            ]
          },
          "execution_count": 91,
          "metadata": {},
          "output_type": "execute_result"
        }
      ],
      "source": [
        "data = next(iter(test_data_loader)) # to get first batch in test_data_loader\n",
        "data"
      ]
    },
    {
      "cell_type": "code",
      "execution_count": 93,
      "metadata": {
        "colab": {
          "base_uri": "https://localhost:8080/"
        },
        "id": "7UI5YCLEasO-",
        "outputId": "1ed25270-f122-431e-dfa7-3fe9818c2361"
      },
      "outputs": [
        {
          "data": {
            "text/plain": [
              "2"
            ]
          },
          "execution_count": 93,
          "metadata": {},
          "output_type": "execute_result"
        }
      ],
      "source": [
        "len(data) #[images, lables]"
      ]
    },
    {
      "cell_type": "code",
      "execution_count": 94,
      "metadata": {
        "id": "C3RXzzRta_p7"
      },
      "outputs": [],
      "source": [
        "images, labels = data"
      ]
    },
    {
      "cell_type": "code",
      "execution_count": 96,
      "metadata": {
        "colab": {
          "base_uri": "https://localhost:8080/"
        },
        "id": "yVHjE-VqbHrX",
        "outputId": "e60dbe22-83c1-4510-e493-56a4780de6f2"
      },
      "outputs": [
        {
          "data": {
            "text/plain": [
              "torch.Size([32, 1, 28, 28])"
            ]
          },
          "execution_count": 96,
          "metadata": {},
          "output_type": "execute_result"
        }
      ],
      "source": [
        "images.shape # [batch_size, channel, width, height]"
      ]
    },
    {
      "cell_type": "code",
      "execution_count": 98,
      "metadata": {
        "colab": {
          "base_uri": "https://localhost:8080/"
        },
        "id": "skxhgQv8bOv_",
        "outputId": "34144cf6-8747-4cac-ab28-5356605c2948"
      },
      "outputs": [
        {
          "data": {
            "text/plain": [
              "torch.Size([1, 28, 28])"
            ]
          },
          "execution_count": 98,
          "metadata": {},
          "output_type": "execute_result"
        }
      ],
      "source": [
        "# to get single image\n",
        "idx = 2\n",
        "img = images[idx]\n",
        "img.shape # [channel, width, height]"
      ]
    },
    {
      "cell_type": "code",
      "execution_count": 101,
      "metadata": {
        "colab": {
          "base_uri": "https://localhost:8080/",
          "height": 35
        },
        "id": "RgEdEHEWbfVL",
        "outputId": "4dc54f2e-ce38-4a5c-9c0f-d9a844e10c57"
      },
      "outputs": [
        {
          "data": {
            "application/vnd.google.colaboratory.intrinsic+json": {
              "type": "string"
            },
            "text/plain": [
              "'Trouser'"
            ]
          },
          "execution_count": 101,
          "metadata": {},
          "output_type": "execute_result"
        }
      ],
      "source": [
        "label = labels[idx]\n",
        "label_map[label.item()]"
      ]
    },
    {
      "cell_type": "code",
      "execution_count": 102,
      "metadata": {
        "colab": {
          "base_uri": "https://localhost:8080/",
          "height": 282
        },
        "id": "wMTWGVF1bf5v",
        "outputId": "54442de8-fabb-48af-d9ba-5d582f4cabfd"
      },
      "outputs": [
        {
          "data": {
            "text/plain": [
              "<matplotlib.image.AxesImage at 0x7f52ece840d0>"
            ]
          },
          "execution_count": 102,
          "metadata": {},
          "output_type": "execute_result"
        },
        {
          "data": {
            "image/png": "[encoded data removed]",
            "text/plain": [
              "<Figure size 432x288 with 1 Axes>"
            ]
          },
          "metadata": {
            "needs_background": "light"
          },
          "output_type": "display_data"
        }
      ],
      "source": [
        "plt.imshow(img.squeeze(), cmap=\"gray\")"
      ]
    },
    {
      "cell_type": "code",
      "execution_count": 104,
      "metadata": {
        "colab": {
          "base_uri": "https://localhost:8080/"
        },
        "id": "Jc9KTTncbf8W",
        "outputId": "ca950ff0-0f76-46df-92d7-931b30c12955"
      },
      "outputs": [
        {
          "data": {
            "text/plain": [
              "torch.Size([1, 1, 28, 28])"
            ]
          },
          "execution_count": 104,
          "metadata": {},
          "output_type": "execute_result"
        }
      ],
      "source": [
        "img.unsqueeze(dim=1).shape"
      ]
    },
    {
      "cell_type": "code",
      "execution_count": 106,
      "metadata": {
        "colab": {
          "base_uri": "https://localhost:8080/"
        },
        "id": "Bb0qzM4Jbf_D",
        "outputId": "a313b681-8a66-45ae-92ef-36e0e830caa1"
      },
      "outputs": [
        {
          "data": {
            "text/plain": [
              "tensor([[ -39.9801,   61.6894, -104.2520,  -21.9062,  -61.7489, -151.6727,\n",
              "          -51.8244, -252.2879, -113.7111, -218.4231]], device='cuda:0',\n",
              "       grad_fn=<AddmmBackward0>)"
            ]
          },
          "execution_count": 106,
          "metadata": {},
          "output_type": "execute_result"
        }
      ],
      "source": [
        "# model expects this format:  [batch_size, channel, width, height]\n",
        "# model is on the device \"CUDA\". so Image we are passing also should be on the device \"CUDA\"\n",
        "# ouput of the model willbe logit values, we need to pass that value into softmax\n",
        "logit = model(img.unsqueeze(dim=1).to(config.DEVICE))\n",
        "logit"
      ]
    },
    {
      "cell_type": "code",
      "execution_count": 107,
      "metadata": {
        "colab": {
          "base_uri": "https://localhost:8080/"
        },
        "id": "uO8cDn4dblgY",
        "outputId": "db1bbd2f-9a23-4868-9520-7edaa42b4f07"
      },
      "outputs": [
        {
          "data": {
            "text/plain": [
              "-954.117"
            ]
          },
          "execution_count": 107,
          "metadata": {},
          "output_type": "execute_result"
        }
      ],
      "source": [
        "sum([ -39.9801,   61.6894, -104.2520,  -21.9062,  -61.7489, -151.6727,\n",
        "          -51.8244, -252.2879, -113.7111, -218.4231])"
      ]
    },
    {
      "cell_type": "code",
      "execution_count": 108,
      "metadata": {
        "colab": {
          "base_uri": "https://localhost:8080/"
        },
        "id": "EqgadHxAbli-",
        "outputId": "df9b92c0-6aae-40c9-af0d-f1a4578aa249"
      },
      "outputs": [
        {
          "data": {
            "text/plain": [
              "tensor([[7.0065e-45, 1.0000e+00, 0.0000e+00, 4.9533e-37, 0.0000e+00, 0.0000e+00,\n",
              "         0.0000e+00, 0.0000e+00, 0.0000e+00, 0.0000e+00]], device='cuda:0',\n",
              "       grad_fn=<SoftmaxBackward0>)"
            ]
          },
          "execution_count": 108,
          "metadata": {},
          "output_type": "execute_result"
        }
      ],
      "source": [
        "# pass the logit values to softmax\n",
        "# should mention dim=1\n",
        "# sum of output of softmax function willbe 1.0\n",
        "pred_prob = F.softmax(logit, dim=1)\n",
        "pred_prob"
      ]
    },
    {
      "cell_type": "code",
      "execution_count": 109,
      "metadata": {
        "colab": {
          "base_uri": "https://localhost:8080/"
        },
        "id": "lN7viz1FbllN",
        "outputId": "512190ce-1334-4a72-edad-c34096c44d45"
      },
      "outputs": [
        {
          "data": {
            "text/plain": [
              "1.0"
            ]
          },
          "execution_count": 109,
          "metadata": {},
          "output_type": "execute_result"
        }
      ],
      "source": [
        "sum([7.0065e-45, 1.0000e+00, 0.0000e+00, 4.9533e-37, 0.0000e+00, 0.0000e+00,\n",
        "         0.0000e+00, 0.0000e+00, 0.0000e+00, 0.0000e+00])"
      ]
    },
    {
      "cell_type": "code",
      "execution_count": 110,
      "metadata": {
        "colab": {
          "base_uri": "https://localhost:8080/"
        },
        "id": "_VhkcixUbln4",
        "outputId": "98a21468-acda-4cf4-d6ef-af9797ecb61f"
      },
      "outputs": [
        {
          "data": {
            "text/plain": [
              "1"
            ]
          },
          "execution_count": 110,
          "metadata": {},
          "output_type": "execute_result"
        }
      ],
      "source": [
        "# to get the maximum probability\n",
        "argmax = torch.argmax(pred_prob).item()\n",
        "argmax "
      ]
    },
    {
      "cell_type": "code",
      "execution_count": 111,
      "metadata": {
        "colab": {
          "base_uri": "https://localhost:8080/",
          "height": 35
        },
        "id": "a8-pSfzsbtZE",
        "outputId": "fe9d5c47-894e-49c7-e901-20a3e5088da3"
      },
      "outputs": [
        {
          "data": {
            "application/vnd.google.colaboratory.intrinsic+json": {
              "type": "string"
            },
            "text/plain": [
              "'Trouser'"
            ]
          },
          "execution_count": 111,
          "metadata": {},
          "output_type": "execute_result"
        }
      ],
      "source": [
        "label_map[argmax]"
      ]
    },
    {
      "cell_type": "code",
      "execution_count": 112,
      "metadata": {
        "id": "gKfRzpiXbtb6"
      },
      "outputs": [],
      "source": [
        "def predict(data, model, label_map, device, idx=0):\n",
        "  images, labels = data\n",
        "  img = images[idx]\n",
        "  label = labels[idx]\n",
        "\n",
        "  plt.imshow(img.squeeze(), cmap=\"gray\")\n",
        "  logit = model(img.unsqueeze(dim=1).to(config.DEVICE))\n",
        "  pred_prob = F.softmax(logit, dim=1)\n",
        "  argmax = torch.argmax(pred_prob).item()\n",
        "  \n",
        "  predicted_label = label_map[argmax]\n",
        "  actual_label = label_map[label.item()]\n",
        "\n",
        "  plt.title(f\"actual: {actual_label} | predicted: {predicted_label}\")\n",
        "  plt.axis(\"off\")\n",
        "  return predicted_label, actual_label"
      ]
    },
    {
      "cell_type": "code",
      "execution_count": 113,
      "metadata": {
        "colab": {
          "base_uri": "https://localhost:8080/",
          "height": 282
        },
        "id": "S1ph5v6wbtev",
        "outputId": "257fe736-7f27-4f71-8333-7732c5f6b384"
      },
      "outputs": [
        {
          "data": {
            "text/plain": [
              "('Trouser', 'Trouser')"
            ]
          },
          "execution_count": 113,
          "metadata": {},
          "output_type": "execute_result"
        },
        {
          "data": {
            "image/png": "[encoded data removed]",
            "text/plain": [
              "<Figure size 432x288 with 1 Axes>"
            ]
          },
          "metadata": {
            "needs_background": "light"
          },
          "output_type": "display_data"
        }
      ],
      "source": [
        "predict(data, model, label_map, config.DEVICE, idx=2)"
      ]
    },
    {
      "cell_type": "code",
      "execution_count": null,
      "metadata": {
        "id": "FrolWp0MbthS"
      },
      "outputs": [],
      "source": [
        "# to convert one model to another refer\n",
        "# https://onnx.ai/"
      ]
    },
    {
      "cell_type": "code",
      "execution_count": null,
      "metadata": {
        "id": "jsFTNagXbtk0"
      },
      "outputs": [],
      "source": []
    },
    {
      "cell_type": "code",
      "execution_count": null,
      "metadata": {
        "id": "F9-Lcsa2btnI"
      },
      "outputs": [],
      "source": []
    }
  ],
  "metadata": {
    "accelerator": "GPU",
    "colab": {
      "collapsed_sections": [],
      "name": "demo_pytorch_CNN.ipynb",
      "provenance": []
    },
    "kernelspec": {
      "display_name": "Python 3",
      "name": "python3"
    },
    "language_info": {
      "name": "python"
    }
  },
  "nbformat": 4,
  "nbformat_minor": 0
}
