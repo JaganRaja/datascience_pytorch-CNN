{
  "cells": [
    {
      "cell_type": "code",
      "execution_count": 1,
      "metadata": {
        "id": "UWDs9N4Xu2hl"
      },
      "outputs": [],
      "source": [
        "#jk"
      ]
    },
    {
      "cell_type": "code",
      "execution_count": 2,
      "metadata": {
        "id": "XygB641UwP2A"
      },
      "outputs": [],
      "source": [
        "import os\n",
        "ROOT = \"/content/drive/MyDrive/Colab Notebooks\"\n",
        "os.chdir(ROOT)"
      ]
    },
    {
      "cell_type": "code",
      "execution_count": 3,
      "metadata": {
        "colab": {
          "base_uri": "https://localhost:8080/"
        },
        "id": "8AfbHQOwx5wo",
        "outputId": "9f3681ef-061a-4c02-b28b-81d6bfba49ee"
      },
      "outputs": [
        {
          "name": "stdout",
          "output_type": "stream",
          "text": [
            "/content/drive/MyDrive/Colab Notebooks\n"
          ]
        }
      ],
      "source": [
        "!pwd"
      ]
    },
    {
      "cell_type": "code",
      "execution_count": 4,
      "metadata": {
        "colab": {
          "base_uri": "https://localhost:8080/"
        },
        "id": "tByFWmUHx-QX",
        "outputId": "6b726e63-8ba2-4d6c-f9e1-9c8ee6a2e266"
      },
      "outputs": [
        {
          "name": "stdout",
          "output_type": "stream",
          "text": [
            " demo_df_keras.ipynb\t  dog_cat_classification   pytorch_basics.ipynb\n",
            " demo_pytorch_CNN.ipynb   FashionMNISTDir\t  'Untitled folder'\n"
          ]
        }
      ],
      "source": [
        "!ls"
      ]
    },
    {
      "cell_type": "code",
      "execution_count": 53,
      "metadata": {
        "id": "VKHvN6_Zu77U"
      },
      "outputs": [],
      "source": [
        "import os\n",
        "import numpy as np\n",
        "import matplotlib.pyplot as plt\n",
        "import seaborn as sns\n",
        "import pandas as pd\n",
        "import torch\n",
        "import torch.nn as nn\n",
        "from torch.utils.data import DataLoader\n",
        "from torchvision import transforms, datasets\n",
        "import torch.nn.functional as F\n",
        "from sklearn.metrics import confusion_matrix\n",
        "from tqdm import tqdm"
      ]
    },
    {
      "cell_type": "code",
      "execution_count": 6,
      "metadata": {
        "colab": {
          "base_uri": "https://localhost:8080/"
        },
        "id": "kW3-FCC-u-MF",
        "outputId": "e207c37a-bb0c-43e1-8f06-5abc4d87591b"
      },
      "outputs": [
        {
          "name": "stdout",
          "output_type": "stream",
          "text": [
            "this notebook is using device: cuda\n"
          ]
        }
      ],
      "source": [
        "class Config:\n",
        "  def __init__(self):\n",
        "    self.ROOT_DATA_DIR = \"FashionMNISTDir\"\n",
        "    self.EPOCH = 10\n",
        "    self.BATCH_SIZE = 32\n",
        "    self.LEARNING_RATE = 0.01\n",
        "    self.IMAGE_SIZE = (28, 28)\n",
        "    self.DEVICE = \"cuda\" if torch.cuda.is_available() else \"cpu\"\n",
        "    print(f\"this notebook is using device: {self.DEVICE}\")\n",
        "    self.SEED = 2022\n",
        "\n",
        "config = Config()"
      ]
    },
    {
      "cell_type": "code",
      "execution_count": 7,
      "metadata": {
        "id": "IoxU4JVb5Rn6"
      },
      "outputs": [],
      "source": [
        "train_data = datasets.FashionMNIST(\n",
        "    root = config.ROOT_DATA_DIR,\n",
        "    train = True,\n",
        "    download = True,\n",
        "    transform = transforms.ToTensor()\n",
        ")\n",
        "\n",
        "test_data = datasets.FashionMNIST(\n",
        "    root = config.ROOT_DATA_DIR,\n",
        "    train = False,\n",
        "    download = True,\n",
        "    transform = transforms.ToTensor()\n",
        ")"
      ]
    },
    {
      "cell_type": "code",
      "execution_count": 8,
      "metadata": {
        "colab": {
          "base_uri": "https://localhost:8080/"
        },
        "id": "BsAe3TjgbitW",
        "outputId": "33197562-ddc8-4f68-98cf-7a45864dc312"
      },
      "outputs": [
        {
          "data": {
            "text/plain": [
              "torch.Size([60000, 28, 28])"
            ]
          },
          "execution_count": 8,
          "metadata": {},
          "output_type": "execute_result"
        }
      ],
      "source": [
        "train_data.data.shape"
      ]
    },
    {
      "cell_type": "code",
      "execution_count": 9,
      "metadata": {
        "colab": {
          "base_uri": "https://localhost:8080/"
        },
        "id": "R6qbOqzrcMp_",
        "outputId": "02a34681-2312-42fd-8d96-60a424896f15"
      },
      "outputs": [
        {
          "data": {
            "text/plain": [
              "torch.Size([10000, 28, 28])"
            ]
          },
          "execution_count": 9,
          "metadata": {},
          "output_type": "execute_result"
        }
      ],
      "source": [
        "test_data.data.shape"
      ]
    },
    {
      "cell_type": "code",
      "execution_count": 10,
      "metadata": {
        "colab": {
          "base_uri": "https://localhost:8080/"
        },
        "id": "awMyq1_BcJTP",
        "outputId": "d1b053b1-51bc-4c35-94c4-f997cee795e4"
      },
      "outputs": [
        {
          "data": {
            "text/plain": [
              "{'Ankle boot': 9,\n",
              " 'Bag': 8,\n",
              " 'Coat': 4,\n",
              " 'Dress': 3,\n",
              " 'Pullover': 2,\n",
              " 'Sandal': 5,\n",
              " 'Shirt': 6,\n",
              " 'Sneaker': 7,\n",
              " 'T-shirt/top': 0,\n",
              " 'Trouser': 1}"
            ]
          },
          "execution_count": 10,
          "metadata": {},
          "output_type": "execute_result"
        }
      ],
      "source": [
        "train_data.class_to_idx"
      ]
    },
    {
      "cell_type": "code",
      "execution_count": 11,
      "metadata": {
        "colab": {
          "base_uri": "https://localhost:8080/"
        },
        "id": "lgY6vw3rcbML",
        "outputId": "3788c534-0666-433f-8262-e60839e3a149"
      },
      "outputs": [
        {
          "data": {
            "text/plain": [
              "tensor([9, 0, 0,  ..., 3, 0, 5])"
            ]
          },
          "execution_count": 11,
          "metadata": {},
          "output_type": "execute_result"
        }
      ],
      "source": [
        "train_data.targets"
      ]
    },
    {
      "cell_type": "code",
      "execution_count": 12,
      "metadata": {
        "colab": {
          "base_uri": "https://localhost:8080/"
        },
        "id": "8OQuA9Rucu_V",
        "outputId": "bf9a23d9-3c45-4271-8e27-2b73da494770"
      },
      "outputs": [
        {
          "data": {
            "text/plain": [
              "{'Ankle boot': 9,\n",
              " 'Bag': 8,\n",
              " 'Coat': 4,\n",
              " 'Dress': 3,\n",
              " 'Pullover': 2,\n",
              " 'Sandal': 5,\n",
              " 'Shirt': 6,\n",
              " 'Sneaker': 7,\n",
              " 'T-shirt/top': 0,\n",
              " 'Trouser': 1}"
            ]
          },
          "execution_count": 12,
          "metadata": {},
          "output_type": "execute_result"
        }
      ],
      "source": [
        "given_label_map = train_data.class_to_idx\n",
        "given_label_map"
      ]
    },
    {
      "cell_type": "code",
      "execution_count": 13,
      "metadata": {
        "colab": {
          "base_uri": "https://localhost:8080/"
        },
        "id": "5BAK-dQydIlZ",
        "outputId": "4769c3d9-d7ec-4264-dda0-66c576eaf38d"
      },
      "outputs": [
        {
          "data": {
            "text/plain": [
              "{0: 'T-shirt/top',\n",
              " 1: 'Trouser',\n",
              " 2: 'Pullover',\n",
              " 3: 'Dress',\n",
              " 4: 'Coat',\n",
              " 5: 'Sandal',\n",
              " 6: 'Shirt',\n",
              " 7: 'Sneaker',\n",
              " 8: 'Bag',\n",
              " 9: 'Ankle boot'}"
            ]
          },
          "execution_count": 13,
          "metadata": {},
          "output_type": "execute_result"
        }
      ],
      "source": [
        "label_map = {val: key for key, val in given_label_map.items()}\n",
        "label_map"
      ]
    },
    {
      "cell_type": "markdown",
      "metadata": {
        "id": "rn5HR_IMdpho"
      },
      "source": [
        "##Visualize one of the samples"
      ]
    },
    {
      "cell_type": "code",
      "execution_count": 14,
      "metadata": {
        "colab": {
          "base_uri": "https://localhost:8080/",
          "height": 264
        },
        "id": "k43ci9XAdg4t",
        "outputId": "26e83ceb-f1fe-406b-a1de-3d935f2e6ede"
      },
      "outputs": [
        {
          "data": {
            "image/png": "[encoded data removed]",
            "text/plain": [
              "<Figure size 432x288 with 1 Axes>"
            ]
          },
          "metadata": {
            "needs_background": "light"
          },
          "output_type": "display_data"
        }
      ],
      "source": [
        "def view_sample_img(data, idx, label_map):\n",
        "  plt.imshow(data.data[idx], cmap=\"gray\")\n",
        "  plt.title(f\"data label: {label_map[data.targets[idx].item()]}\")\n",
        "  plt.axis(\"off\")\n",
        "\n",
        "view_sample_img(train_data, 7, label_map)"
      ]
    },
    {
      "cell_type": "markdown",
      "metadata": {
        "id": "YTHbNSsWfJET"
      },
      "source": [
        "## Create the dataloader"
      ]
    },
    {
      "cell_type": "code",
      "execution_count": 15,
      "metadata": {
        "id": "fdZWvjnPe8r9"
      },
      "outputs": [],
      "source": [
        "train_data_loader = DataLoader(\n",
        "    dataset = train_data,\n",
        "    batch_size = config.BATCH_SIZE,\n",
        "    shuffle = True\n",
        ")\n",
        "\n",
        "test_data_loader = DataLoader(\n",
        "    dataset = test_data,\n",
        "    batch_size = config.BATCH_SIZE,\n",
        "    shuffle = False\n",
        ")"
      ]
    },
    {
      "cell_type": "code",
      "execution_count": 16,
      "metadata": {
        "colab": {
          "base_uri": "https://localhost:8080/"
        },
        "id": "GTKuq3JKgc9P",
        "outputId": "36c71149-5999-4670-aae5-6f5a072b5d10"
      },
      "outputs": [
        {
          "data": {
            "text/plain": [
              "<torch.utils.data.dataloader.DataLoader at 0x7f70cc163f50>"
            ]
          },
          "execution_count": 16,
          "metadata": {},
          "output_type": "execute_result"
        }
      ],
      "source": [
        "train_data_loader"
      ]
    },
    {
      "cell_type": "code",
      "execution_count": 17,
      "metadata": {
        "colab": {
          "base_uri": "https://localhost:8080/"
        },
        "id": "0XH0eeMvge6F",
        "outputId": "859b2f27-100a-4306-9e27-c7d0a548ea63"
      },
      "outputs": [
        {
          "name": "stdout",
          "output_type": "stream",
          "text": [
            "torch.Size([32, 1, 28, 28])\n",
            "torch.Size([32])\n"
          ]
        }
      ],
      "source": [
        "for images, labels in train_data_loader:\n",
        "  print(images.shape)\n",
        "  print(labels.shape)\n",
        "  break"
      ]
    },
    {
      "cell_type": "code",
      "execution_count": 18,
      "metadata": {
        "colab": {
          "base_uri": "https://localhost:8080/"
        },
        "id": "4uRRzYvNg8wl",
        "outputId": "b9bd89bd-0791-470e-9470-2e2aae3654b9"
      },
      "outputs": [
        {
          "data": {
            "text/plain": [
              "torch.Size([1, 28, 28])"
            ]
          },
          "execution_count": 18,
          "metadata": {},
          "output_type": "execute_result"
        }
      ],
      "source": [
        "images[0].shape"
      ]
    },
    {
      "cell_type": "code",
      "execution_count": 19,
      "metadata": {
        "colab": {
          "base_uri": "https://localhost:8080/"
        },
        "id": "1srLbfoZh4rk",
        "outputId": "e8a40ff5-d313-4ba1-8db8-db3c24fbcd2e"
      },
      "outputs": [
        {
          "data": {
            "text/plain": [
              "torch.Size([28, 28])"
            ]
          },
          "execution_count": 19,
          "metadata": {},
          "output_type": "execute_result"
        }
      ],
      "source": [
        "images[0].squeeze().shape"
      ]
    },
    {
      "cell_type": "code",
      "execution_count": 20,
      "metadata": {
        "colab": {
          "base_uri": "https://localhost:8080/"
        },
        "id": "4JCmZJF5h6of",
        "outputId": "1e14fb42-1ef7-4c2d-b44d-a6d033da4397"
      },
      "outputs": [
        {
          "data": {
            "text/plain": [
              "array([[0.        , 0.        , 0.        , 0.        , 0.        ,\n",
              "        0.        , 0.        , 0.        , 0.        , 0.        ,\n",
              "        0.        , 0.        , 0.1254902 , 0.4745098 , 0.64705884,\n",
              "        0.5529412 , 0.4745098 , 0.        , 0.        , 0.        ,\n",
              "        0.        , 0.00392157, 0.        , 0.        , 0.        ,\n",
              "        0.        , 0.        , 0.        ],\n",
              "       [0.        , 0.        , 0.        , 0.        , 0.        ,\n",
              "        0.        , 0.        , 0.        , 0.        , 0.04313726,\n",
              "        0.20392157, 0.34901962, 0.2       , 0.42745098, 0.7607843 ,\n",
              "        0.3372549 , 0.3137255 , 0.36862746, 0.20392157, 0.04313726,\n",
              "        0.        , 0.        , 0.01176471, 0.        , 0.        ,\n",
              "        0.        , 0.        , 0.        ],\n",
              "       [0.        , 0.        , 0.        , 0.        , 0.        ,\n",
              "        0.        , 0.        , 0.        , 0.16862746, 0.38039216,\n",
              "        0.28235295, 0.15686275, 0.34509805, 0.34901962, 0.14901961,\n",
              "        0.28235295, 0.3882353 , 0.23529412, 0.2509804 , 0.3254902 ,\n",
              "        0.2509804 , 0.        , 0.        , 0.        , 0.        ,\n",
              "        0.        , 0.        , 0.        ],\n",
              "       [0.        , 0.        , 0.        , 0.        , 0.        ,\n",
              "        0.        , 0.        , 0.        , 0.5137255 , 0.16078432,\n",
              "        0.1882353 , 0.6156863 , 0.45882353, 0.2509804 , 0.35686275,\n",
              "        0.38039216, 0.14901961, 0.2509804 , 0.23137255, 0.1254902 ,\n",
              "        0.3372549 , 0.23137255, 0.        , 0.        , 0.        ,\n",
              "        0.        , 0.        , 0.        ],\n",
              "       [0.        , 0.        , 0.        , 0.        , 0.        ,\n",
              "        0.        , 0.        , 0.07450981, 0.44313726, 0.5058824 ,\n",
              "        0.69803923, 0.31764707, 0.14117648, 0.2627451 , 0.33333334,\n",
              "        0.21176471, 0.2       , 0.45882353, 0.4       , 0.4392157 ,\n",
              "        0.29411766, 0.33333334, 0.        , 0.        , 0.        ,\n",
              "        0.        , 0.        , 0.        ],\n",
              "       [0.        , 0.        , 0.        , 0.        , 0.        ,\n",
              "        0.        , 0.        , 0.16862746, 0.45882353, 0.61960787,\n",
              "        0.16078432, 0.12941177, 0.23137255, 0.27450982, 0.33333334,\n",
              "        0.19215687, 0.23137255, 0.23529412, 0.23137255, 0.49019608,\n",
              "        0.5647059 , 0.35686275, 0.        , 0.        , 0.        ,\n",
              "        0.        , 0.        , 0.        ],\n",
              "       [0.        , 0.        , 0.        , 0.        , 0.        ,\n",
              "        0.        , 0.        , 0.2509804 , 0.47058824, 0.59607846,\n",
              "        0.16078432, 0.24313726, 0.23529412, 0.33333334, 0.2627451 ,\n",
              "        0.2509804 , 0.23529412, 0.2       , 0.15686275, 0.7294118 ,\n",
              "        0.70980394, 0.28627452, 0.03137255, 0.        , 0.        ,\n",
              "        0.        , 0.        , 0.        ],\n",
              "       [0.        , 0.        , 0.        , 0.        , 0.        ,\n",
              "        0.        , 0.        , 0.28627452, 0.44313726, 0.8666667 ,\n",
              "        0.3372549 , 0.33333334, 0.29803923, 0.33333334, 0.2627451 ,\n",
              "        0.30588236, 0.3372549 , 0.45882353, 0.3372549 , 0.8666667 ,\n",
              "        0.65882355, 0.26666668, 0.1254902 , 0.        , 0.        ,\n",
              "        0.        , 0.        , 0.        ],\n",
              "       [0.        , 0.        , 0.        , 0.        , 0.        ,\n",
              "        0.        , 0.        , 0.3137255 , 0.4627451 , 1.        ,\n",
              "        0.49411765, 0.27450982, 0.33333334, 0.28235295, 0.35686275,\n",
              "        0.27450982, 0.4117647 , 0.54509807, 0.2509804 , 0.70980394,\n",
              "        0.6901961 , 0.26666668, 0.16862746, 0.        , 0.        ,\n",
              "        0.        , 0.        , 0.        ],\n",
              "       [0.        , 0.        , 0.        , 0.        , 0.        ,\n",
              "        0.        , 0.        , 0.30588236, 0.6156863 , 0.68235296,\n",
              "        0.08627451, 0.40784314, 0.3372549 , 0.27450982, 0.4392157 ,\n",
              "        0.22352941, 0.4745098 , 0.5058824 , 0.26666668, 0.3254902 ,\n",
              "        0.7411765 , 0.29411766, 0.20392157, 0.        , 0.        ,\n",
              "        0.        , 0.        , 0.        ],\n",
              "       [0.        , 0.        , 0.        , 0.        , 0.        ,\n",
              "        0.        , 0.00392157, 0.29803923, 0.6784314 , 0.73333335,\n",
              "        0.        , 0.5058824 , 0.28627452, 0.33333334, 0.4509804 ,\n",
              "        0.24313726, 0.52156866, 0.49019608, 0.25490198, 0.01176471,\n",
              "        0.8980392 , 0.41960785, 0.24313726, 0.        , 0.        ,\n",
              "        0.        , 0.        , 0.        ],\n",
              "       [0.        , 0.        , 0.        , 0.        , 0.        ,\n",
              "        0.        , 0.0627451 , 0.3647059 , 0.77254903, 0.30588236,\n",
              "        0.05490196, 0.5058824 , 0.28235295, 0.4392157 , 0.41960785,\n",
              "        0.26666668, 0.48235294, 0.3647059 , 0.27450982, 0.        ,\n",
              "        0.8901961 , 0.53333336, 0.23529412, 0.        , 0.        ,\n",
              "        0.        , 0.        , 0.        ],\n",
              "       [0.        , 0.        , 0.        , 0.        , 0.        ,\n",
              "        0.        , 0.12941177, 0.3882353 , 0.77254903, 0.        ,\n",
              "        0.21960784, 0.45882353, 0.3254902 , 0.5019608 , 0.35686275,\n",
              "        0.33333334, 0.48235294, 0.9490196 , 0.4117647 , 0.        ,\n",
              "        0.92941177, 0.6       , 0.22352941, 0.        , 0.        ,\n",
              "        0.        , 0.        , 0.        ],\n",
              "       [0.        , 0.        , 0.        , 0.        , 0.        ,\n",
              "        0.        , 0.13725491, 0.45882353, 0.8392157 , 0.        ,\n",
              "        0.3254902 , 0.4       , 0.3764706 , 0.48235294, 0.28235295,\n",
              "        0.4117647 , 0.4392157 , 0.8039216 , 0.45882353, 0.        ,\n",
              "        0.5686275 , 0.70980394, 0.28235295, 0.        , 0.        ,\n",
              "        0.        , 0.        , 0.        ],\n",
              "       [0.        , 0.        , 0.        , 0.        , 0.        ,\n",
              "        0.        , 0.17254902, 0.5058824 , 0.8039216 , 0.        ,\n",
              "        0.40784314, 0.3882353 , 0.38039216, 0.4392157 , 0.28627452,\n",
              "        0.49411765, 0.3882353 , 0.5686275 , 0.52156866, 0.        ,\n",
              "        0.45882353, 0.74509805, 0.2509804 , 0.        , 0.        ,\n",
              "        0.        , 0.        , 0.        ],\n",
              "       [0.        , 0.        , 0.        , 0.        , 0.        ,\n",
              "        0.        , 0.2509804 , 0.49019608, 0.7607843 , 0.04313726,\n",
              "        0.43137255, 0.4       , 0.40784314, 0.4117647 , 0.28627452,\n",
              "        0.5882353 , 0.4745098 , 0.42745098, 0.4745098 , 0.09411765,\n",
              "        0.4392157 , 0.7607843 , 0.2627451 , 0.        , 0.        ,\n",
              "        0.        , 0.        , 0.        ],\n",
              "       [0.        , 0.        , 0.        , 0.        , 0.        ,\n",
              "        0.        , 0.21960784, 0.5019608 , 0.6784314 , 0.16862746,\n",
              "        0.41960785, 0.41960785, 0.41960785, 0.3647059 , 0.3647059 ,\n",
              "        0.5882353 , 0.54509807, 0.4509804 , 0.4392157 , 0.15686275,\n",
              "        0.4117647 , 0.65882355, 0.29803923, 0.        , 0.        ,\n",
              "        0.        , 0.        , 0.        ],\n",
              "       [0.        , 0.        , 0.        , 0.        , 0.        ,\n",
              "        0.        , 0.24313726, 0.4627451 , 0.68235296, 0.21960784,\n",
              "        0.4392157 , 0.41960785, 0.42745098, 0.3372549 , 0.45882353,\n",
              "        0.48235294, 0.5647059 , 0.49411765, 0.4627451 , 0.25490198,\n",
              "        0.44313726, 0.6392157 , 0.3254902 , 0.        , 0.        ,\n",
              "        0.        , 0.        , 0.        ],\n",
              "       [0.        , 0.        , 0.        , 0.        , 0.        ,\n",
              "        0.        , 0.31764707, 0.49019608, 0.70980394, 0.34509805,\n",
              "        0.41960785, 0.41960785, 0.4392157 , 0.3647059 , 0.54509807,\n",
              "        0.39607844, 0.627451  , 0.39607844, 0.4117647 , 0.3372549 ,\n",
              "        0.64705884, 0.78431374, 0.43137255, 0.        , 0.        ,\n",
              "        0.        , 0.        , 0.        ],\n",
              "       [0.        , 0.        , 0.        , 0.        , 0.        ,\n",
              "        0.        , 0.01176471, 0.        , 0.06666667, 0.4       ,\n",
              "        0.4117647 , 0.42745098, 0.41960785, 0.3764706 , 0.58431375,\n",
              "        0.40784314, 0.64705884, 0.49019608, 0.4627451 , 0.47058824,\n",
              "        0.18039216, 0.        , 0.03529412, 0.        , 0.        ,\n",
              "        0.        , 0.        , 0.        ],\n",
              "       [0.        , 0.        , 0.        , 0.        , 0.        ,\n",
              "        0.        , 0.        , 0.        , 0.        , 0.48235294,\n",
              "        0.4117647 , 0.42745098, 0.42745098, 0.4117647 , 0.65882355,\n",
              "        0.36862746, 0.60784316, 0.6784314 , 0.6666667 , 0.49411765,\n",
              "        0.2       , 0.        , 0.        , 0.        , 0.        ,\n",
              "        0.        , 0.        , 0.        ],\n",
              "       [0.        , 0.        , 0.        , 0.        , 0.        ,\n",
              "        0.        , 0.00392157, 0.        , 0.01568628, 0.5137255 ,\n",
              "        0.4117647 , 0.4392157 , 0.43137255, 0.45882353, 0.6313726 ,\n",
              "        0.4       , 0.48235294, 0.5529412 , 0.5686275 , 0.48235294,\n",
              "        0.30588236, 0.        , 0.        , 0.        , 0.        ,\n",
              "        0.        , 0.        , 0.        ],\n",
              "       [0.        , 0.        , 0.        , 0.        , 0.        ,\n",
              "        0.        , 0.        , 0.        , 0.01176471, 0.49411765,\n",
              "        0.41960785, 0.4392157 , 0.40784314, 0.53333336, 0.5568628 ,\n",
              "        0.42745098, 0.43137255, 0.53333336, 0.42745098, 0.4509804 ,\n",
              "        0.3254902 , 0.        , 0.        , 0.        , 0.        ,\n",
              "        0.        , 0.        , 0.        ],\n",
              "       [0.        , 0.        , 0.        , 0.        , 0.        ,\n",
              "        0.        , 0.00392157, 0.        , 0.03529412, 0.49019608,\n",
              "        0.4       , 0.4509804 , 0.4117647 , 0.59607846, 0.44313726,\n",
              "        0.47058824, 0.42745098, 0.54509807, 0.52156866, 0.4509804 ,\n",
              "        0.35686275, 0.        , 0.        , 0.        , 0.        ,\n",
              "        0.        , 0.        , 0.        ],\n",
              "       [0.        , 0.        , 0.        , 0.        , 0.        ,\n",
              "        0.        , 0.00392157, 0.        , 0.10980392, 0.47058824,\n",
              "        0.38039216, 0.44313726, 0.45882353, 0.5647059 , 0.4       ,\n",
              "        0.52156866, 0.36862746, 0.5019608 , 0.5254902 , 0.4392157 ,\n",
              "        0.42745098, 0.        , 0.        , 0.        , 0.        ,\n",
              "        0.        , 0.        , 0.        ],\n",
              "       [0.        , 0.        , 0.        , 0.        , 0.        ,\n",
              "        0.        , 0.01176471, 0.        , 0.20392157, 0.58431375,\n",
              "        0.44313726, 0.41960785, 0.4627451 , 0.4745098 , 0.43137255,\n",
              "        0.61960787, 0.4745098 , 0.58431375, 0.59607846, 0.4       ,\n",
              "        0.44313726, 0.06666667, 0.        , 0.        , 0.        ,\n",
              "        0.        , 0.        , 0.        ],\n",
              "       [0.        , 0.        , 0.        , 0.        , 0.        ,\n",
              "        0.        , 0.        , 0.        , 0.        , 0.21960784,\n",
              "        0.48235294, 0.5372549 , 0.4745098 , 0.43137255, 0.54509807,\n",
              "        0.31764707, 0.10588235, 0.19215687, 0.10588235, 0.        ,\n",
              "        0.        , 0.        , 0.        , 0.        , 0.        ,\n",
              "        0.        , 0.        , 0.        ],\n",
              "       [0.        , 0.        , 0.        , 0.        , 0.        ,\n",
              "        0.        , 0.        , 0.        , 0.        , 0.        ,\n",
              "        0.        , 0.09803922, 0.25490198, 0.4       , 0.5372549 ,\n",
              "        0.        , 0.        , 0.        , 0.        , 0.        ,\n",
              "        0.        , 0.        , 0.        , 0.        , 0.        ,\n",
              "        0.        , 0.        , 0.        ]], dtype=float32)"
            ]
          },
          "execution_count": 20,
          "metadata": {},
          "output_type": "execute_result"
        }
      ],
      "source": [
        "images[0].squeeze().numpy()"
      ]
    },
    {
      "cell_type": "code",
      "execution_count": 21,
      "metadata": {
        "colab": {
          "base_uri": "https://localhost:8080/",
          "height": 282
        },
        "id": "7Mp1yHe0iHO-",
        "outputId": "d0138322-77b2-4fa9-f9ea-6f900d48f934"
      },
      "outputs": [
        {
          "data": {
            "text/plain": [
              "<matplotlib.image.AxesImage at 0x7f70cc9d8f90>"
            ]
          },
          "execution_count": 21,
          "metadata": {},
          "output_type": "execute_result"
        },
        {
          "data": {
            "image/png": "[encoded data removed]",
            "text/plain": [
              "<Figure size 432x288 with 1 Axes>"
            ]
          },
          "metadata": {
            "needs_background": "light"
          },
          "output_type": "display_data"
        }
      ],
      "source": [
        "plt.imshow(images[0].squeeze(), cmap=\"gray\")"
      ]
    },
    {
      "cell_type": "code",
      "execution_count": 22,
      "metadata": {
        "colab": {
          "base_uri": "https://localhost:8080/"
        },
        "id": "6TQSjOfUiLXf",
        "outputId": "f8ac642d-cbdc-4e68-bc54-c5e4cbe76315"
      },
      "outputs": [
        {
          "data": {
            "text/plain": [
              "(torch.Size([1, 28, 28]), torch.Size([28, 28]), torch.Size([1, 1, 28, 28]))"
            ]
          },
          "execution_count": 22,
          "metadata": {},
          "output_type": "execute_result"
        }
      ],
      "source": [
        "images[0].shape, images[0].squeeze().shape, images[0].unsqueeze(dim=1).shape"
      ]
    },
    {
      "cell_type": "code",
      "execution_count": 23,
      "metadata": {
        "colab": {
          "base_uri": "https://localhost:8080/"
        },
        "id": "T2_rh8FuikBw",
        "outputId": "808cc1c7-170d-4a3c-d73a-efe6d9c821b5"
      },
      "outputs": [
        {
          "data": {
            "text/plain": [
              "tensor([[[0.0000, 0.0000, 0.0000, 0.0000, 0.0000, 0.0000, 0.0000, 0.0000,\n",
              "          0.0000, 0.0000, 0.0000, 0.0000, 0.1255, 0.4745, 0.6471, 0.5529,\n",
              "          0.4745, 0.0000, 0.0000, 0.0000, 0.0000, 0.0039, 0.0000, 0.0000,\n",
              "          0.0000, 0.0000, 0.0000, 0.0000],\n",
              "         [0.0000, 0.0000, 0.0000, 0.0000, 0.0000, 0.0000, 0.0000, 0.0000,\n",
              "          0.0000, 0.0431, 0.2039, 0.3490, 0.2000, 0.4275, 0.7608, 0.3373,\n",
              "          0.3137, 0.3686, 0.2039, 0.0431, 0.0000, 0.0000, 0.0118, 0.0000,\n",
              "          0.0000, 0.0000, 0.0000, 0.0000],\n",
              "         [0.0000, 0.0000, 0.0000, 0.0000, 0.0000, 0.0000, 0.0000, 0.0000,\n",
              "          0.1686, 0.3804, 0.2824, 0.1569, 0.3451, 0.3490, 0.1490, 0.2824,\n",
              "          0.3882, 0.2353, 0.2510, 0.3255, 0.2510, 0.0000, 0.0000, 0.0000,\n",
              "          0.0000, 0.0000, 0.0000, 0.0000],\n",
              "         [0.0000, 0.0000, 0.0000, 0.0000, 0.0000, 0.0000, 0.0000, 0.0000,\n",
              "          0.5137, 0.1608, 0.1882, 0.6157, 0.4588, 0.2510, 0.3569, 0.3804,\n",
              "          0.1490, 0.2510, 0.2314, 0.1255, 0.3373, 0.2314, 0.0000, 0.0000,\n",
              "          0.0000, 0.0000, 0.0000, 0.0000],\n",
              "         [0.0000, 0.0000, 0.0000, 0.0000, 0.0000, 0.0000, 0.0000, 0.0745,\n",
              "          0.4431, 0.5059, 0.6980, 0.3176, 0.1412, 0.2627, 0.3333, 0.2118,\n",
              "          0.2000, 0.4588, 0.4000, 0.4392, 0.2941, 0.3333, 0.0000, 0.0000,\n",
              "          0.0000, 0.0000, 0.0000, 0.0000],\n",
              "         [0.0000, 0.0000, 0.0000, 0.0000, 0.0000, 0.0000, 0.0000, 0.1686,\n",
              "          0.4588, 0.6196, 0.1608, 0.1294, 0.2314, 0.2745, 0.3333, 0.1922,\n",
              "          0.2314, 0.2353, 0.2314, 0.4902, 0.5647, 0.3569, 0.0000, 0.0000,\n",
              "          0.0000, 0.0000, 0.0000, 0.0000],\n",
              "         [0.0000, 0.0000, 0.0000, 0.0000, 0.0000, 0.0000, 0.0000, 0.2510,\n",
              "          0.4706, 0.5961, 0.1608, 0.2431, 0.2353, 0.3333, 0.2627, 0.2510,\n",
              "          0.2353, 0.2000, 0.1569, 0.7294, 0.7098, 0.2863, 0.0314, 0.0000,\n",
              "          0.0000, 0.0000, 0.0000, 0.0000],\n",
              "         [0.0000, 0.0000, 0.0000, 0.0000, 0.0000, 0.0000, 0.0000, 0.2863,\n",
              "          0.4431, 0.8667, 0.3373, 0.3333, 0.2980, 0.3333, 0.2627, 0.3059,\n",
              "          0.3373, 0.4588, 0.3373, 0.8667, 0.6588, 0.2667, 0.1255, 0.0000,\n",
              "          0.0000, 0.0000, 0.0000, 0.0000],\n",
              "         [0.0000, 0.0000, 0.0000, 0.0000, 0.0000, 0.0000, 0.0000, 0.3137,\n",
              "          0.4627, 1.0000, 0.4941, 0.2745, 0.3333, 0.2824, 0.3569, 0.2745,\n",
              "          0.4118, 0.5451, 0.2510, 0.7098, 0.6902, 0.2667, 0.1686, 0.0000,\n",
              "          0.0000, 0.0000, 0.0000, 0.0000],\n",
              "         [0.0000, 0.0000, 0.0000, 0.0000, 0.0000, 0.0000, 0.0000, 0.3059,\n",
              "          0.6157, 0.6824, 0.0863, 0.4078, 0.3373, 0.2745, 0.4392, 0.2235,\n",
              "          0.4745, 0.5059, 0.2667, 0.3255, 0.7412, 0.2941, 0.2039, 0.0000,\n",
              "          0.0000, 0.0000, 0.0000, 0.0000],\n",
              "         [0.0000, 0.0000, 0.0000, 0.0000, 0.0000, 0.0000, 0.0039, 0.2980,\n",
              "          0.6784, 0.7333, 0.0000, 0.5059, 0.2863, 0.3333, 0.4510, 0.2431,\n",
              "          0.5216, 0.4902, 0.2549, 0.0118, 0.8980, 0.4196, 0.2431, 0.0000,\n",
              "          0.0000, 0.0000, 0.0000, 0.0000],\n",
              "         [0.0000, 0.0000, 0.0000, 0.0000, 0.0000, 0.0000, 0.0627, 0.3647,\n",
              "          0.7725, 0.3059, 0.0549, 0.5059, 0.2824, 0.4392, 0.4196, 0.2667,\n",
              "          0.4824, 0.3647, 0.2745, 0.0000, 0.8902, 0.5333, 0.2353, 0.0000,\n",
              "          0.0000, 0.0000, 0.0000, 0.0000],\n",
              "         [0.0000, 0.0000, 0.0000, 0.0000, 0.0000, 0.0000, 0.1294, 0.3882,\n",
              "          0.7725, 0.0000, 0.2196, 0.4588, 0.3255, 0.5020, 0.3569, 0.3333,\n",
              "          0.4824, 0.9490, 0.4118, 0.0000, 0.9294, 0.6000, 0.2235, 0.0000,\n",
              "          0.0000, 0.0000, 0.0000, 0.0000],\n",
              "         [0.0000, 0.0000, 0.0000, 0.0000, 0.0000, 0.0000, 0.1373, 0.4588,\n",
              "          0.8392, 0.0000, 0.3255, 0.4000, 0.3765, 0.4824, 0.2824, 0.4118,\n",
              "          0.4392, 0.8039, 0.4588, 0.0000, 0.5686, 0.7098, 0.2824, 0.0000,\n",
              "          0.0000, 0.0000, 0.0000, 0.0000],\n",
              "         [0.0000, 0.0000, 0.0000, 0.0000, 0.0000, 0.0000, 0.1725, 0.5059,\n",
              "          0.8039, 0.0000, 0.4078, 0.3882, 0.3804, 0.4392, 0.2863, 0.4941,\n",
              "          0.3882, 0.5686, 0.5216, 0.0000, 0.4588, 0.7451, 0.2510, 0.0000,\n",
              "          0.0000, 0.0000, 0.0000, 0.0000],\n",
              "         [0.0000, 0.0000, 0.0000, 0.0000, 0.0000, 0.0000, 0.2510, 0.4902,\n",
              "          0.7608, 0.0431, 0.4314, 0.4000, 0.4078, 0.4118, 0.2863, 0.5882,\n",
              "          0.4745, 0.4275, 0.4745, 0.0941, 0.4392, 0.7608, 0.2627, 0.0000,\n",
              "          0.0000, 0.0000, 0.0000, 0.0000],\n",
              "         [0.0000, 0.0000, 0.0000, 0.0000, 0.0000, 0.0000, 0.2196, 0.5020,\n",
              "          0.6784, 0.1686, 0.4196, 0.4196, 0.4196, 0.3647, 0.3647, 0.5882,\n",
              "          0.5451, 0.4510, 0.4392, 0.1569, 0.4118, 0.6588, 0.2980, 0.0000,\n",
              "          0.0000, 0.0000, 0.0000, 0.0000],\n",
              "         [0.0000, 0.0000, 0.0000, 0.0000, 0.0000, 0.0000, 0.2431, 0.4627,\n",
              "          0.6824, 0.2196, 0.4392, 0.4196, 0.4275, 0.3373, 0.4588, 0.4824,\n",
              "          0.5647, 0.4941, 0.4627, 0.2549, 0.4431, 0.6392, 0.3255, 0.0000,\n",
              "          0.0000, 0.0000, 0.0000, 0.0000],\n",
              "         [0.0000, 0.0000, 0.0000, 0.0000, 0.0000, 0.0000, 0.3176, 0.4902,\n",
              "          0.7098, 0.3451, 0.4196, 0.4196, 0.4392, 0.3647, 0.5451, 0.3961,\n",
              "          0.6275, 0.3961, 0.4118, 0.3373, 0.6471, 0.7843, 0.4314, 0.0000,\n",
              "          0.0000, 0.0000, 0.0000, 0.0000],\n",
              "         [0.0000, 0.0000, 0.0000, 0.0000, 0.0000, 0.0000, 0.0118, 0.0000,\n",
              "          0.0667, 0.4000, 0.4118, 0.4275, 0.4196, 0.3765, 0.5843, 0.4078,\n",
              "          0.6471, 0.4902, 0.4627, 0.4706, 0.1804, 0.0000, 0.0353, 0.0000,\n",
              "          0.0000, 0.0000, 0.0000, 0.0000],\n",
              "         [0.0000, 0.0000, 0.0000, 0.0000, 0.0000, 0.0000, 0.0000, 0.0000,\n",
              "          0.0000, 0.4824, 0.4118, 0.4275, 0.4275, 0.4118, 0.6588, 0.3686,\n",
              "          0.6078, 0.6784, 0.6667, 0.4941, 0.2000, 0.0000, 0.0000, 0.0000,\n",
              "          0.0000, 0.0000, 0.0000, 0.0000],\n",
              "         [0.0000, 0.0000, 0.0000, 0.0000, 0.0000, 0.0000, 0.0039, 0.0000,\n",
              "          0.0157, 0.5137, 0.4118, 0.4392, 0.4314, 0.4588, 0.6314, 0.4000,\n",
              "          0.4824, 0.5529, 0.5686, 0.4824, 0.3059, 0.0000, 0.0000, 0.0000,\n",
              "          0.0000, 0.0000, 0.0000, 0.0000],\n",
              "         [0.0000, 0.0000, 0.0000, 0.0000, 0.0000, 0.0000, 0.0000, 0.0000,\n",
              "          0.0118, 0.4941, 0.4196, 0.4392, 0.4078, 0.5333, 0.5569, 0.4275,\n",
              "          0.4314, 0.5333, 0.4275, 0.4510, 0.3255, 0.0000, 0.0000, 0.0000,\n",
              "          0.0000, 0.0000, 0.0000, 0.0000],\n",
              "         [0.0000, 0.0000, 0.0000, 0.0000, 0.0000, 0.0000, 0.0039, 0.0000,\n",
              "          0.0353, 0.4902, 0.4000, 0.4510, 0.4118, 0.5961, 0.4431, 0.4706,\n",
              "          0.4275, 0.5451, 0.5216, 0.4510, 0.3569, 0.0000, 0.0000, 0.0000,\n",
              "          0.0000, 0.0000, 0.0000, 0.0000],\n",
              "         [0.0000, 0.0000, 0.0000, 0.0000, 0.0000, 0.0000, 0.0039, 0.0000,\n",
              "          0.1098, 0.4706, 0.3804, 0.4431, 0.4588, 0.5647, 0.4000, 0.5216,\n",
              "          0.3686, 0.5020, 0.5255, 0.4392, 0.4275, 0.0000, 0.0000, 0.0000,\n",
              "          0.0000, 0.0000, 0.0000, 0.0000],\n",
              "         [0.0000, 0.0000, 0.0000, 0.0000, 0.0000, 0.0000, 0.0118, 0.0000,\n",
              "          0.2039, 0.5843, 0.4431, 0.4196, 0.4627, 0.4745, 0.4314, 0.6196,\n",
              "          0.4745, 0.5843, 0.5961, 0.4000, 0.4431, 0.0667, 0.0000, 0.0000,\n",
              "          0.0000, 0.0000, 0.0000, 0.0000],\n",
              "         [0.0000, 0.0000, 0.0000, 0.0000, 0.0000, 0.0000, 0.0000, 0.0000,\n",
              "          0.0000, 0.2196, 0.4824, 0.5373, 0.4745, 0.4314, 0.5451, 0.3176,\n",
              "          0.1059, 0.1922, 0.1059, 0.0000, 0.0000, 0.0000, 0.0000, 0.0000,\n",
              "          0.0000, 0.0000, 0.0000, 0.0000],\n",
              "         [0.0000, 0.0000, 0.0000, 0.0000, 0.0000, 0.0000, 0.0000, 0.0000,\n",
              "          0.0000, 0.0000, 0.0000, 0.0980, 0.2549, 0.4000, 0.5373, 0.0000,\n",
              "          0.0000, 0.0000, 0.0000, 0.0000, 0.0000, 0.0000, 0.0000, 0.0000,\n",
              "          0.0000, 0.0000, 0.0000, 0.0000]]])"
            ]
          },
          "execution_count": 23,
          "metadata": {},
          "output_type": "execute_result"
        }
      ],
      "source": [
        "images[0]"
      ]
    },
    {
      "cell_type": "code",
      "execution_count": 24,
      "metadata": {
        "colab": {
          "base_uri": "https://localhost:8080/"
        },
        "id": "L6xlkPdUjnSb",
        "outputId": "40bb3384-abd0-4d98-9ea3-9c10f79d40d0"
      },
      "outputs": [
        {
          "data": {
            "text/plain": [
              "torch.Size([28, 28])"
            ]
          },
          "execution_count": 24,
          "metadata": {},
          "output_type": "execute_result"
        }
      ],
      "source": [
        "images[0][0].shape"
      ]
    },
    {
      "cell_type": "code",
      "execution_count": 25,
      "metadata": {
        "colab": {
          "base_uri": "https://localhost:8080/"
        },
        "id": "kaz1CPOri_vo",
        "outputId": "3ab7ec27-8448-4bfc-af52-b2c6bc72c0ac"
      },
      "outputs": [
        {
          "data": {
            "text/plain": [
              "tensor([[0.0000, 0.0000, 0.0000, 0.0000, 0.0000, 0.0000, 0.0000, 0.0000, 0.0000,\n",
              "         0.0000, 0.0000, 0.0000, 0.1255, 0.4745, 0.6471, 0.5529, 0.4745, 0.0000,\n",
              "         0.0000, 0.0000, 0.0000, 0.0039, 0.0000, 0.0000, 0.0000, 0.0000, 0.0000,\n",
              "         0.0000],\n",
              "        [0.0000, 0.0000, 0.0000, 0.0000, 0.0000, 0.0000, 0.0000, 0.0000, 0.0000,\n",
              "         0.0431, 0.2039, 0.3490, 0.2000, 0.4275, 0.7608, 0.3373, 0.3137, 0.3686,\n",
              "         0.2039, 0.0431, 0.0000, 0.0000, 0.0118, 0.0000, 0.0000, 0.0000, 0.0000,\n",
              "         0.0000],\n",
              "        [0.0000, 0.0000, 0.0000, 0.0000, 0.0000, 0.0000, 0.0000, 0.0000, 0.1686,\n",
              "         0.3804, 0.2824, 0.1569, 0.3451, 0.3490, 0.1490, 0.2824, 0.3882, 0.2353,\n",
              "         0.2510, 0.3255, 0.2510, 0.0000, 0.0000, 0.0000, 0.0000, 0.0000, 0.0000,\n",
              "         0.0000],\n",
              "        [0.0000, 0.0000, 0.0000, 0.0000, 0.0000, 0.0000, 0.0000, 0.0000, 0.5137,\n",
              "         0.1608, 0.1882, 0.6157, 0.4588, 0.2510, 0.3569, 0.3804, 0.1490, 0.2510,\n",
              "         0.2314, 0.1255, 0.3373, 0.2314, 0.0000, 0.0000, 0.0000, 0.0000, 0.0000,\n",
              "         0.0000],\n",
              "        [0.0000, 0.0000, 0.0000, 0.0000, 0.0000, 0.0000, 0.0000, 0.0745, 0.4431,\n",
              "         0.5059, 0.6980, 0.3176, 0.1412, 0.2627, 0.3333, 0.2118, 0.2000, 0.4588,\n",
              "         0.4000, 0.4392, 0.2941, 0.3333, 0.0000, 0.0000, 0.0000, 0.0000, 0.0000,\n",
              "         0.0000],\n",
              "        [0.0000, 0.0000, 0.0000, 0.0000, 0.0000, 0.0000, 0.0000, 0.1686, 0.4588,\n",
              "         0.6196, 0.1608, 0.1294, 0.2314, 0.2745, 0.3333, 0.1922, 0.2314, 0.2353,\n",
              "         0.2314, 0.4902, 0.5647, 0.3569, 0.0000, 0.0000, 0.0000, 0.0000, 0.0000,\n",
              "         0.0000],\n",
              "        [0.0000, 0.0000, 0.0000, 0.0000, 0.0000, 0.0000, 0.0000, 0.2510, 0.4706,\n",
              "         0.5961, 0.1608, 0.2431, 0.2353, 0.3333, 0.2627, 0.2510, 0.2353, 0.2000,\n",
              "         0.1569, 0.7294, 0.7098, 0.2863, 0.0314, 0.0000, 0.0000, 0.0000, 0.0000,\n",
              "         0.0000],\n",
              "        [0.0000, 0.0000, 0.0000, 0.0000, 0.0000, 0.0000, 0.0000, 0.2863, 0.4431,\n",
              "         0.8667, 0.3373, 0.3333, 0.2980, 0.3333, 0.2627, 0.3059, 0.3373, 0.4588,\n",
              "         0.3373, 0.8667, 0.6588, 0.2667, 0.1255, 0.0000, 0.0000, 0.0000, 0.0000,\n",
              "         0.0000],\n",
              "        [0.0000, 0.0000, 0.0000, 0.0000, 0.0000, 0.0000, 0.0000, 0.3137, 0.4627,\n",
              "         1.0000, 0.4941, 0.2745, 0.3333, 0.2824, 0.3569, 0.2745, 0.4118, 0.5451,\n",
              "         0.2510, 0.7098, 0.6902, 0.2667, 0.1686, 0.0000, 0.0000, 0.0000, 0.0000,\n",
              "         0.0000],\n",
              "        [0.0000, 0.0000, 0.0000, 0.0000, 0.0000, 0.0000, 0.0000, 0.3059, 0.6157,\n",
              "         0.6824, 0.0863, 0.4078, 0.3373, 0.2745, 0.4392, 0.2235, 0.4745, 0.5059,\n",
              "         0.2667, 0.3255, 0.7412, 0.2941, 0.2039, 0.0000, 0.0000, 0.0000, 0.0000,\n",
              "         0.0000],\n",
              "        [0.0000, 0.0000, 0.0000, 0.0000, 0.0000, 0.0000, 0.0039, 0.2980, 0.6784,\n",
              "         0.7333, 0.0000, 0.5059, 0.2863, 0.3333, 0.4510, 0.2431, 0.5216, 0.4902,\n",
              "         0.2549, 0.0118, 0.8980, 0.4196, 0.2431, 0.0000, 0.0000, 0.0000, 0.0000,\n",
              "         0.0000],\n",
              "        [0.0000, 0.0000, 0.0000, 0.0000, 0.0000, 0.0000, 0.0627, 0.3647, 0.7725,\n",
              "         0.3059, 0.0549, 0.5059, 0.2824, 0.4392, 0.4196, 0.2667, 0.4824, 0.3647,\n",
              "         0.2745, 0.0000, 0.8902, 0.5333, 0.2353, 0.0000, 0.0000, 0.0000, 0.0000,\n",
              "         0.0000],\n",
              "        [0.0000, 0.0000, 0.0000, 0.0000, 0.0000, 0.0000, 0.1294, 0.3882, 0.7725,\n",
              "         0.0000, 0.2196, 0.4588, 0.3255, 0.5020, 0.3569, 0.3333, 0.4824, 0.9490,\n",
              "         0.4118, 0.0000, 0.9294, 0.6000, 0.2235, 0.0000, 0.0000, 0.0000, 0.0000,\n",
              "         0.0000],\n",
              "        [0.0000, 0.0000, 0.0000, 0.0000, 0.0000, 0.0000, 0.1373, 0.4588, 0.8392,\n",
              "         0.0000, 0.3255, 0.4000, 0.3765, 0.4824, 0.2824, 0.4118, 0.4392, 0.8039,\n",
              "         0.4588, 0.0000, 0.5686, 0.7098, 0.2824, 0.0000, 0.0000, 0.0000, 0.0000,\n",
              "         0.0000],\n",
              "        [0.0000, 0.0000, 0.0000, 0.0000, 0.0000, 0.0000, 0.1725, 0.5059, 0.8039,\n",
              "         0.0000, 0.4078, 0.3882, 0.3804, 0.4392, 0.2863, 0.4941, 0.3882, 0.5686,\n",
              "         0.5216, 0.0000, 0.4588, 0.7451, 0.2510, 0.0000, 0.0000, 0.0000, 0.0000,\n",
              "         0.0000],\n",
              "        [0.0000, 0.0000, 0.0000, 0.0000, 0.0000, 0.0000, 0.2510, 0.4902, 0.7608,\n",
              "         0.0431, 0.4314, 0.4000, 0.4078, 0.4118, 0.2863, 0.5882, 0.4745, 0.4275,\n",
              "         0.4745, 0.0941, 0.4392, 0.7608, 0.2627, 0.0000, 0.0000, 0.0000, 0.0000,\n",
              "         0.0000],\n",
              "        [0.0000, 0.0000, 0.0000, 0.0000, 0.0000, 0.0000, 0.2196, 0.5020, 0.6784,\n",
              "         0.1686, 0.4196, 0.4196, 0.4196, 0.3647, 0.3647, 0.5882, 0.5451, 0.4510,\n",
              "         0.4392, 0.1569, 0.4118, 0.6588, 0.2980, 0.0000, 0.0000, 0.0000, 0.0000,\n",
              "         0.0000],\n",
              "        [0.0000, 0.0000, 0.0000, 0.0000, 0.0000, 0.0000, 0.2431, 0.4627, 0.6824,\n",
              "         0.2196, 0.4392, 0.4196, 0.4275, 0.3373, 0.4588, 0.4824, 0.5647, 0.4941,\n",
              "         0.4627, 0.2549, 0.4431, 0.6392, 0.3255, 0.0000, 0.0000, 0.0000, 0.0000,\n",
              "         0.0000],\n",
              "        [0.0000, 0.0000, 0.0000, 0.0000, 0.0000, 0.0000, 0.3176, 0.4902, 0.7098,\n",
              "         0.3451, 0.4196, 0.4196, 0.4392, 0.3647, 0.5451, 0.3961, 0.6275, 0.3961,\n",
              "         0.4118, 0.3373, 0.6471, 0.7843, 0.4314, 0.0000, 0.0000, 0.0000, 0.0000,\n",
              "         0.0000],\n",
              "        [0.0000, 0.0000, 0.0000, 0.0000, 0.0000, 0.0000, 0.0118, 0.0000, 0.0667,\n",
              "         0.4000, 0.4118, 0.4275, 0.4196, 0.3765, 0.5843, 0.4078, 0.6471, 0.4902,\n",
              "         0.4627, 0.4706, 0.1804, 0.0000, 0.0353, 0.0000, 0.0000, 0.0000, 0.0000,\n",
              "         0.0000],\n",
              "        [0.0000, 0.0000, 0.0000, 0.0000, 0.0000, 0.0000, 0.0000, 0.0000, 0.0000,\n",
              "         0.4824, 0.4118, 0.4275, 0.4275, 0.4118, 0.6588, 0.3686, 0.6078, 0.6784,\n",
              "         0.6667, 0.4941, 0.2000, 0.0000, 0.0000, 0.0000, 0.0000, 0.0000, 0.0000,\n",
              "         0.0000],\n",
              "        [0.0000, 0.0000, 0.0000, 0.0000, 0.0000, 0.0000, 0.0039, 0.0000, 0.0157,\n",
              "         0.5137, 0.4118, 0.4392, 0.4314, 0.4588, 0.6314, 0.4000, 0.4824, 0.5529,\n",
              "         0.5686, 0.4824, 0.3059, 0.0000, 0.0000, 0.0000, 0.0000, 0.0000, 0.0000,\n",
              "         0.0000],\n",
              "        [0.0000, 0.0000, 0.0000, 0.0000, 0.0000, 0.0000, 0.0000, 0.0000, 0.0118,\n",
              "         0.4941, 0.4196, 0.4392, 0.4078, 0.5333, 0.5569, 0.4275, 0.4314, 0.5333,\n",
              "         0.4275, 0.4510, 0.3255, 0.0000, 0.0000, 0.0000, 0.0000, 0.0000, 0.0000,\n",
              "         0.0000],\n",
              "        [0.0000, 0.0000, 0.0000, 0.0000, 0.0000, 0.0000, 0.0039, 0.0000, 0.0353,\n",
              "         0.4902, 0.4000, 0.4510, 0.4118, 0.5961, 0.4431, 0.4706, 0.4275, 0.5451,\n",
              "         0.5216, 0.4510, 0.3569, 0.0000, 0.0000, 0.0000, 0.0000, 0.0000, 0.0000,\n",
              "         0.0000],\n",
              "        [0.0000, 0.0000, 0.0000, 0.0000, 0.0000, 0.0000, 0.0039, 0.0000, 0.1098,\n",
              "         0.4706, 0.3804, 0.4431, 0.4588, 0.5647, 0.4000, 0.5216, 0.3686, 0.5020,\n",
              "         0.5255, 0.4392, 0.4275, 0.0000, 0.0000, 0.0000, 0.0000, 0.0000, 0.0000,\n",
              "         0.0000],\n",
              "        [0.0000, 0.0000, 0.0000, 0.0000, 0.0000, 0.0000, 0.0118, 0.0000, 0.2039,\n",
              "         0.5843, 0.4431, 0.4196, 0.4627, 0.4745, 0.4314, 0.6196, 0.4745, 0.5843,\n",
              "         0.5961, 0.4000, 0.4431, 0.0667, 0.0000, 0.0000, 0.0000, 0.0000, 0.0000,\n",
              "         0.0000],\n",
              "        [0.0000, 0.0000, 0.0000, 0.0000, 0.0000, 0.0000, 0.0000, 0.0000, 0.0000,\n",
              "         0.2196, 0.4824, 0.5373, 0.4745, 0.4314, 0.5451, 0.3176, 0.1059, 0.1922,\n",
              "         0.1059, 0.0000, 0.0000, 0.0000, 0.0000, 0.0000, 0.0000, 0.0000, 0.0000,\n",
              "         0.0000],\n",
              "        [0.0000, 0.0000, 0.0000, 0.0000, 0.0000, 0.0000, 0.0000, 0.0000, 0.0000,\n",
              "         0.0000, 0.0000, 0.0980, 0.2549, 0.4000, 0.5373, 0.0000, 0.0000, 0.0000,\n",
              "         0.0000, 0.0000, 0.0000, 0.0000, 0.0000, 0.0000, 0.0000, 0.0000, 0.0000,\n",
              "         0.0000]])"
            ]
          },
          "execution_count": 25,
          "metadata": {},
          "output_type": "execute_result"
        }
      ],
      "source": [
        "images[0].squeeze()"
      ]
    },
    {
      "cell_type": "code",
      "execution_count": 26,
      "metadata": {
        "colab": {
          "base_uri": "https://localhost:8080/"
        },
        "id": "ZsMmeslbjHSP",
        "outputId": "dc6e7b88-9a62-40ed-8128-bfd461349237"
      },
      "outputs": [
        {
          "data": {
            "text/plain": [
              "tensor([[[[0.0000, 0.0000, 0.0000, 0.0000, 0.0000, 0.0000, 0.0000, 0.0000,\n",
              "           0.0000, 0.0000, 0.0000, 0.0000, 0.1255, 0.4745, 0.6471, 0.5529,\n",
              "           0.4745, 0.0000, 0.0000, 0.0000, 0.0000, 0.0039, 0.0000, 0.0000,\n",
              "           0.0000, 0.0000, 0.0000, 0.0000],\n",
              "          [0.0000, 0.0000, 0.0000, 0.0000, 0.0000, 0.0000, 0.0000, 0.0000,\n",
              "           0.0000, 0.0431, 0.2039, 0.3490, 0.2000, 0.4275, 0.7608, 0.3373,\n",
              "           0.3137, 0.3686, 0.2039, 0.0431, 0.0000, 0.0000, 0.0118, 0.0000,\n",
              "           0.0000, 0.0000, 0.0000, 0.0000],\n",
              "          [0.0000, 0.0000, 0.0000, 0.0000, 0.0000, 0.0000, 0.0000, 0.0000,\n",
              "           0.1686, 0.3804, 0.2824, 0.1569, 0.3451, 0.3490, 0.1490, 0.2824,\n",
              "           0.3882, 0.2353, 0.2510, 0.3255, 0.2510, 0.0000, 0.0000, 0.0000,\n",
              "           0.0000, 0.0000, 0.0000, 0.0000],\n",
              "          [0.0000, 0.0000, 0.0000, 0.0000, 0.0000, 0.0000, 0.0000, 0.0000,\n",
              "           0.5137, 0.1608, 0.1882, 0.6157, 0.4588, 0.2510, 0.3569, 0.3804,\n",
              "           0.1490, 0.2510, 0.2314, 0.1255, 0.3373, 0.2314, 0.0000, 0.0000,\n",
              "           0.0000, 0.0000, 0.0000, 0.0000],\n",
              "          [0.0000, 0.0000, 0.0000, 0.0000, 0.0000, 0.0000, 0.0000, 0.0745,\n",
              "           0.4431, 0.5059, 0.6980, 0.3176, 0.1412, 0.2627, 0.3333, 0.2118,\n",
              "           0.2000, 0.4588, 0.4000, 0.4392, 0.2941, 0.3333, 0.0000, 0.0000,\n",
              "           0.0000, 0.0000, 0.0000, 0.0000],\n",
              "          [0.0000, 0.0000, 0.0000, 0.0000, 0.0000, 0.0000, 0.0000, 0.1686,\n",
              "           0.4588, 0.6196, 0.1608, 0.1294, 0.2314, 0.2745, 0.3333, 0.1922,\n",
              "           0.2314, 0.2353, 0.2314, 0.4902, 0.5647, 0.3569, 0.0000, 0.0000,\n",
              "           0.0000, 0.0000, 0.0000, 0.0000],\n",
              "          [0.0000, 0.0000, 0.0000, 0.0000, 0.0000, 0.0000, 0.0000, 0.2510,\n",
              "           0.4706, 0.5961, 0.1608, 0.2431, 0.2353, 0.3333, 0.2627, 0.2510,\n",
              "           0.2353, 0.2000, 0.1569, 0.7294, 0.7098, 0.2863, 0.0314, 0.0000,\n",
              "           0.0000, 0.0000, 0.0000, 0.0000],\n",
              "          [0.0000, 0.0000, 0.0000, 0.0000, 0.0000, 0.0000, 0.0000, 0.2863,\n",
              "           0.4431, 0.8667, 0.3373, 0.3333, 0.2980, 0.3333, 0.2627, 0.3059,\n",
              "           0.3373, 0.4588, 0.3373, 0.8667, 0.6588, 0.2667, 0.1255, 0.0000,\n",
              "           0.0000, 0.0000, 0.0000, 0.0000],\n",
              "          [0.0000, 0.0000, 0.0000, 0.0000, 0.0000, 0.0000, 0.0000, 0.3137,\n",
              "           0.4627, 1.0000, 0.4941, 0.2745, 0.3333, 0.2824, 0.3569, 0.2745,\n",
              "           0.4118, 0.5451, 0.2510, 0.7098, 0.6902, 0.2667, 0.1686, 0.0000,\n",
              "           0.0000, 0.0000, 0.0000, 0.0000],\n",
              "          [0.0000, 0.0000, 0.0000, 0.0000, 0.0000, 0.0000, 0.0000, 0.3059,\n",
              "           0.6157, 0.6824, 0.0863, 0.4078, 0.3373, 0.2745, 0.4392, 0.2235,\n",
              "           0.4745, 0.5059, 0.2667, 0.3255, 0.7412, 0.2941, 0.2039, 0.0000,\n",
              "           0.0000, 0.0000, 0.0000, 0.0000],\n",
              "          [0.0000, 0.0000, 0.0000, 0.0000, 0.0000, 0.0000, 0.0039, 0.2980,\n",
              "           0.6784, 0.7333, 0.0000, 0.5059, 0.2863, 0.3333, 0.4510, 0.2431,\n",
              "           0.5216, 0.4902, 0.2549, 0.0118, 0.8980, 0.4196, 0.2431, 0.0000,\n",
              "           0.0000, 0.0000, 0.0000, 0.0000],\n",
              "          [0.0000, 0.0000, 0.0000, 0.0000, 0.0000, 0.0000, 0.0627, 0.3647,\n",
              "           0.7725, 0.3059, 0.0549, 0.5059, 0.2824, 0.4392, 0.4196, 0.2667,\n",
              "           0.4824, 0.3647, 0.2745, 0.0000, 0.8902, 0.5333, 0.2353, 0.0000,\n",
              "           0.0000, 0.0000, 0.0000, 0.0000],\n",
              "          [0.0000, 0.0000, 0.0000, 0.0000, 0.0000, 0.0000, 0.1294, 0.3882,\n",
              "           0.7725, 0.0000, 0.2196, 0.4588, 0.3255, 0.5020, 0.3569, 0.3333,\n",
              "           0.4824, 0.9490, 0.4118, 0.0000, 0.9294, 0.6000, 0.2235, 0.0000,\n",
              "           0.0000, 0.0000, 0.0000, 0.0000],\n",
              "          [0.0000, 0.0000, 0.0000, 0.0000, 0.0000, 0.0000, 0.1373, 0.4588,\n",
              "           0.8392, 0.0000, 0.3255, 0.4000, 0.3765, 0.4824, 0.2824, 0.4118,\n",
              "           0.4392, 0.8039, 0.4588, 0.0000, 0.5686, 0.7098, 0.2824, 0.0000,\n",
              "           0.0000, 0.0000, 0.0000, 0.0000],\n",
              "          [0.0000, 0.0000, 0.0000, 0.0000, 0.0000, 0.0000, 0.1725, 0.5059,\n",
              "           0.8039, 0.0000, 0.4078, 0.3882, 0.3804, 0.4392, 0.2863, 0.4941,\n",
              "           0.3882, 0.5686, 0.5216, 0.0000, 0.4588, 0.7451, 0.2510, 0.0000,\n",
              "           0.0000, 0.0000, 0.0000, 0.0000],\n",
              "          [0.0000, 0.0000, 0.0000, 0.0000, 0.0000, 0.0000, 0.2510, 0.4902,\n",
              "           0.7608, 0.0431, 0.4314, 0.4000, 0.4078, 0.4118, 0.2863, 0.5882,\n",
              "           0.4745, 0.4275, 0.4745, 0.0941, 0.4392, 0.7608, 0.2627, 0.0000,\n",
              "           0.0000, 0.0000, 0.0000, 0.0000],\n",
              "          [0.0000, 0.0000, 0.0000, 0.0000, 0.0000, 0.0000, 0.2196, 0.5020,\n",
              "           0.6784, 0.1686, 0.4196, 0.4196, 0.4196, 0.3647, 0.3647, 0.5882,\n",
              "           0.5451, 0.4510, 0.4392, 0.1569, 0.4118, 0.6588, 0.2980, 0.0000,\n",
              "           0.0000, 0.0000, 0.0000, 0.0000],\n",
              "          [0.0000, 0.0000, 0.0000, 0.0000, 0.0000, 0.0000, 0.2431, 0.4627,\n",
              "           0.6824, 0.2196, 0.4392, 0.4196, 0.4275, 0.3373, 0.4588, 0.4824,\n",
              "           0.5647, 0.4941, 0.4627, 0.2549, 0.4431, 0.6392, 0.3255, 0.0000,\n",
              "           0.0000, 0.0000, 0.0000, 0.0000],\n",
              "          [0.0000, 0.0000, 0.0000, 0.0000, 0.0000, 0.0000, 0.3176, 0.4902,\n",
              "           0.7098, 0.3451, 0.4196, 0.4196, 0.4392, 0.3647, 0.5451, 0.3961,\n",
              "           0.6275, 0.3961, 0.4118, 0.3373, 0.6471, 0.7843, 0.4314, 0.0000,\n",
              "           0.0000, 0.0000, 0.0000, 0.0000],\n",
              "          [0.0000, 0.0000, 0.0000, 0.0000, 0.0000, 0.0000, 0.0118, 0.0000,\n",
              "           0.0667, 0.4000, 0.4118, 0.4275, 0.4196, 0.3765, 0.5843, 0.4078,\n",
              "           0.6471, 0.4902, 0.4627, 0.4706, 0.1804, 0.0000, 0.0353, 0.0000,\n",
              "           0.0000, 0.0000, 0.0000, 0.0000],\n",
              "          [0.0000, 0.0000, 0.0000, 0.0000, 0.0000, 0.0000, 0.0000, 0.0000,\n",
              "           0.0000, 0.4824, 0.4118, 0.4275, 0.4275, 0.4118, 0.6588, 0.3686,\n",
              "           0.6078, 0.6784, 0.6667, 0.4941, 0.2000, 0.0000, 0.0000, 0.0000,\n",
              "           0.0000, 0.0000, 0.0000, 0.0000],\n",
              "          [0.0000, 0.0000, 0.0000, 0.0000, 0.0000, 0.0000, 0.0039, 0.0000,\n",
              "           0.0157, 0.5137, 0.4118, 0.4392, 0.4314, 0.4588, 0.6314, 0.4000,\n",
              "           0.4824, 0.5529, 0.5686, 0.4824, 0.3059, 0.0000, 0.0000, 0.0000,\n",
              "           0.0000, 0.0000, 0.0000, 0.0000],\n",
              "          [0.0000, 0.0000, 0.0000, 0.0000, 0.0000, 0.0000, 0.0000, 0.0000,\n",
              "           0.0118, 0.4941, 0.4196, 0.4392, 0.4078, 0.5333, 0.5569, 0.4275,\n",
              "           0.4314, 0.5333, 0.4275, 0.4510, 0.3255, 0.0000, 0.0000, 0.0000,\n",
              "           0.0000, 0.0000, 0.0000, 0.0000],\n",
              "          [0.0000, 0.0000, 0.0000, 0.0000, 0.0000, 0.0000, 0.0039, 0.0000,\n",
              "           0.0353, 0.4902, 0.4000, 0.4510, 0.4118, 0.5961, 0.4431, 0.4706,\n",
              "           0.4275, 0.5451, 0.5216, 0.4510, 0.3569, 0.0000, 0.0000, 0.0000,\n",
              "           0.0000, 0.0000, 0.0000, 0.0000],\n",
              "          [0.0000, 0.0000, 0.0000, 0.0000, 0.0000, 0.0000, 0.0039, 0.0000,\n",
              "           0.1098, 0.4706, 0.3804, 0.4431, 0.4588, 0.5647, 0.4000, 0.5216,\n",
              "           0.3686, 0.5020, 0.5255, 0.4392, 0.4275, 0.0000, 0.0000, 0.0000,\n",
              "           0.0000, 0.0000, 0.0000, 0.0000],\n",
              "          [0.0000, 0.0000, 0.0000, 0.0000, 0.0000, 0.0000, 0.0118, 0.0000,\n",
              "           0.2039, 0.5843, 0.4431, 0.4196, 0.4627, 0.4745, 0.4314, 0.6196,\n",
              "           0.4745, 0.5843, 0.5961, 0.4000, 0.4431, 0.0667, 0.0000, 0.0000,\n",
              "           0.0000, 0.0000, 0.0000, 0.0000],\n",
              "          [0.0000, 0.0000, 0.0000, 0.0000, 0.0000, 0.0000, 0.0000, 0.0000,\n",
              "           0.0000, 0.2196, 0.4824, 0.5373, 0.4745, 0.4314, 0.5451, 0.3176,\n",
              "           0.1059, 0.1922, 0.1059, 0.0000, 0.0000, 0.0000, 0.0000, 0.0000,\n",
              "           0.0000, 0.0000, 0.0000, 0.0000],\n",
              "          [0.0000, 0.0000, 0.0000, 0.0000, 0.0000, 0.0000, 0.0000, 0.0000,\n",
              "           0.0000, 0.0000, 0.0000, 0.0980, 0.2549, 0.4000, 0.5373, 0.0000,\n",
              "           0.0000, 0.0000, 0.0000, 0.0000, 0.0000, 0.0000, 0.0000, 0.0000,\n",
              "           0.0000, 0.0000, 0.0000, 0.0000]]]])"
            ]
          },
          "execution_count": 26,
          "metadata": {},
          "output_type": "execute_result"
        }
      ],
      "source": [
        "images[0].unsqueeze(dim=1)"
      ]
    },
    {
      "cell_type": "code",
      "execution_count": 42,
      "metadata": {
        "id": "zxT_dPdqjKm3"
      },
      "outputs": [],
      "source": [
        "# refer handwritten notebook for more details\n",
        "\n",
        "class CNN(nn.Module):\n",
        "  def __init__(self, in_, out_):\n",
        "    super(CNN, self).__init__()\n",
        "\n",
        "    # out_channels -> no.of filters/ expected no.of fetaure maps\n",
        "    self.conv_pool_01 = nn.Sequential(\n",
        "        nn.Conv2d(in_channels=in_, out_channels=8, kernel_size=5, stride=1, padding=0),\n",
        "        nn.ReLU(),\n",
        "        nn.MaxPool2d(kernel_size=2, stride=2)\n",
        "    )\n",
        "    # in_channels -> previous layer ouput feature maps\n",
        "    self.conv_pool_02 = nn.Sequential(\n",
        "        nn.Conv2d(in_channels=8, out_channels=16, kernel_size=5, stride=1, padding=0),\n",
        "        nn.ReLU(),\n",
        "        nn.MaxPool2d(kernel_size=2, stride=2)\n",
        "    )\n",
        "\n",
        "    self.Flatten = nn.Flatten()\n",
        "    # linear -> Dense\n",
        "    # FC -> fully connected layer\n",
        "    self.FC_01 = nn.Linear(in_features=16*4*4, out_features=128)\n",
        "    self.FC_02 = nn.Linear(in_features=128, out_features=64)\n",
        "    self.FC_03 = nn.Linear(in_features=64, out_features=out_)\n",
        "\n",
        "\n",
        "\n",
        "  def forward(self, x):\n",
        "    x = self.conv_pool_01(x)\n",
        "    x = self.conv_pool_02(x)\n",
        "    x = self.Flatten(x)\n",
        "    x = self.FC_01(x)\n",
        "    x = F.relu(x)\n",
        "    x = self.FC_02(x)\n",
        "    x = F.relu(x)    \n",
        "    x = self.FC_03(x)\n",
        "    return x"
      ]
    },
    {
      "cell_type": "code",
      "execution_count": 43,
      "metadata": {
        "colab": {
          "base_uri": "https://localhost:8080/"
        },
        "id": "sDMgl_T7yedP",
        "outputId": "aeb860bf-f28a-4c02-fc3c-14923c2ca768"
      },
      "outputs": [
        {
          "name": "stdout",
          "output_type": "stream",
          "text": [
            "CNN(\n",
            "  (conv_pool_01): Sequential(\n",
            "    (0): Conv2d(1, 8, kernel_size=(5, 5), stride=(1, 1))\n",
            "    (1): ReLU()\n",
            "    (2): MaxPool2d(kernel_size=2, stride=2, padding=0, dilation=1, ceil_mode=False)\n",
            "  )\n",
            "  (conv_pool_02): Sequential(\n",
            "    (0): Conv2d(8, 16, kernel_size=(5, 5), stride=(1, 1))\n",
            "    (1): ReLU()\n",
            "    (2): MaxPool2d(kernel_size=2, stride=2, padding=0, dilation=1, ceil_mode=False)\n",
            "  )\n",
            "  (Flatten): Flatten(start_dim=1, end_dim=-1)\n",
            "  (FC_01): Linear(in_features=256, out_features=128, bias=True)\n",
            "  (FC_02): Linear(in_features=128, out_features=64, bias=True)\n",
            "  (FC_03): Linear(in_features=64, out_features=10, bias=True)\n",
            ")\n"
          ]
        }
      ],
      "source": [
        "model = CNN(1, 10)  # CNN(input_channel, output_target_values)\n",
        "\n",
        "print(model)"
      ]
    },
    {
      "cell_type": "code",
      "execution_count": 45,
      "metadata": {
        "colab": {
          "base_uri": "https://localhost:8080/"
        },
        "id": "s_mQU6_u0GWs",
        "outputId": "d53379c4-9784-4fdc-b5fc-20a8faef0e89"
      },
      "outputs": [
        {
          "data": {
            "text/plain": [
              "Flatten(start_dim=1, end_dim=-1)"
            ]
          },
          "execution_count": 45,
          "metadata": {},
          "output_type": "execute_result"
        }
      ],
      "source": [
        "model.Flatten"
      ]
    },
    {
      "cell_type": "code",
      "execution_count": 46,
      "metadata": {
        "colab": {
          "base_uri": "https://localhost:8080/"
        },
        "id": "bslHdJj42-To",
        "outputId": "ac771e5e-928e-4930-b2f5-321436d51c08"
      },
      "outputs": [
        {
          "data": {
            "text/plain": [
              "Sequential(\n",
              "  (0): Conv2d(8, 16, kernel_size=(5, 5), stride=(1, 1))\n",
              "  (1): ReLU()\n",
              "  (2): MaxPool2d(kernel_size=2, stride=2, padding=0, dilation=1, ceil_mode=False)\n",
              ")"
            ]
          },
          "execution_count": 46,
          "metadata": {},
          "output_type": "execute_result"
        }
      ],
      "source": [
        "model.conv_pool_02"
      ]
    },
    {
      "cell_type": "code",
      "execution_count": 47,
      "metadata": {
        "colab": {
          "base_uri": "https://localhost:8080/"
        },
        "id": "wOQzrErs3EfS",
        "outputId": "de491376-2045-409f-9bc9-565a2b0a4a47"
      },
      "outputs": [
        {
          "data": {
            "text/plain": [
              "Linear(in_features=256, out_features=128, bias=True)"
            ]
          },
          "execution_count": 47,
          "metadata": {},
          "output_type": "execute_result"
        }
      ],
      "source": [
        "model.FC_01"
      ]
    },
    {
      "cell_type": "code",
      "execution_count": 49,
      "metadata": {
        "colab": {
          "base_uri": "https://localhost:8080/"
        },
        "id": "p6_q_WIt3V3K",
        "outputId": "67bf86f4-c850-4ed2-a33b-30c4d1772a5b"
      },
      "outputs": [
        {
          "data": {
            "text/plain": [
              "<generator object Module.parameters at 0x7f70cba73050>"
            ]
          },
          "execution_count": 49,
          "metadata": {},
          "output_type": "execute_result"
        }
      ],
      "source": [
        "model.parameters()"
      ]
    },
    {
      "cell_type": "code",
      "execution_count": 48,
      "metadata": {
        "colab": {
          "base_uri": "https://localhost:8080/"
        },
        "id": "2YWle-Ds3F3E",
        "outputId": "d43ba696-ebf0-4552-d259-062d027dddef"
      },
      "outputs": [
        {
          "data": {
            "text/plain": [
              "False"
            ]
          },
          "execution_count": 48,
          "metadata": {},
          "output_type": "execute_result"
        }
      ],
      "source": [
        "# verify model is using CUDA or not\n",
        "next(model.parameters()).is_cuda"
      ]
    },
    {
      "cell_type": "code",
      "execution_count": 50,
      "metadata": {
        "colab": {
          "base_uri": "https://localhost:8080/"
        },
        "id": "0TCJABmg3T6h",
        "outputId": "2ffde5be-be54-41c5-8453-fb6ca8c619fe"
      },
      "outputs": [
        {
          "data": {
            "text/plain": [
              "CNN(\n",
              "  (conv_pool_01): Sequential(\n",
              "    (0): Conv2d(1, 8, kernel_size=(5, 5), stride=(1, 1))\n",
              "    (1): ReLU()\n",
              "    (2): MaxPool2d(kernel_size=2, stride=2, padding=0, dilation=1, ceil_mode=False)\n",
              "  )\n",
              "  (conv_pool_02): Sequential(\n",
              "    (0): Conv2d(8, 16, kernel_size=(5, 5), stride=(1, 1))\n",
              "    (1): ReLU()\n",
              "    (2): MaxPool2d(kernel_size=2, stride=2, padding=0, dilation=1, ceil_mode=False)\n",
              "  )\n",
              "  (Flatten): Flatten(start_dim=1, end_dim=-1)\n",
              "  (FC_01): Linear(in_features=256, out_features=128, bias=True)\n",
              "  (FC_02): Linear(in_features=128, out_features=64, bias=True)\n",
              "  (FC_03): Linear(in_features=64, out_features=10, bias=True)\n",
              ")"
            ]
          },
          "execution_count": 50,
          "metadata": {},
          "output_type": "execute_result"
        }
      ],
      "source": [
        "# to make model to use CUDA\n",
        "model.to(config.DEVICE)"
      ]
    },
    {
      "cell_type": "code",
      "execution_count": 51,
      "metadata": {
        "colab": {
          "base_uri": "https://localhost:8080/"
        },
        "id": "J999G6Hf3rk2",
        "outputId": "a53b4120-7da8-417f-eb21-0ca5e59b671e"
      },
      "outputs": [
        {
          "data": {
            "text/plain": [
              "True"
            ]
          },
          "execution_count": 51,
          "metadata": {},
          "output_type": "execute_result"
        }
      ],
      "source": [
        "# now verify after making model to use CUDA.. means it will use GPU\n",
        "next(model.parameters()).is_cuda"
      ]
    },
    {
      "cell_type": "markdown",
      "metadata": {
        "id": "NRrxm1To4Kuq"
      },
      "source": [
        "## Count the no. of trainable parameters"
      ]
    },
    {
      "cell_type": "code",
      "execution_count": 54,
      "metadata": {
        "colab": {
          "base_uri": "https://localhost:8080/",
          "height": 398
        },
        "id": "0Hzyj3mI34_T",
        "outputId": "a2c02671-1874-4113-ae3f-59fe16a588a2"
      },
      "outputs": [
        {
          "data": {
            "text/html": [
              "<style type=\"text/css\">\n",
              "</style>\n",
              "<table id=\"T_b25a2_\" class=\"dataframe\">\n",
              "  <caption>Total parameters: {'trainable': 45226, 'non_trainable': 0}</caption>\n",
              "  <thead>\n",
              "    <tr>\n",
              "      <th class=\"blank level0\" >&nbsp;</th>\n",
              "      <th class=\"col_heading level0 col0\" >Modules</th>\n",
              "      <th class=\"col_heading level0 col1\" >Parameters</th>\n",
              "    </tr>\n",
              "  </thead>\n",
              "  <tbody>\n",
              "    <tr>\n",
              "      <th id=\"T_b25a2_level0_row0\" class=\"row_heading level0 row0\" >0</th>\n",
              "      <td id=\"T_b25a2_row0_col0\" class=\"data row0 col0\" >conv_pool_01.0.weight</td>\n",
              "      <td id=\"T_b25a2_row0_col1\" class=\"data row0 col1\" >200</td>\n",
              "    </tr>\n",
              "    <tr>\n",
              "      <th id=\"T_b25a2_level0_row1\" class=\"row_heading level0 row1\" >1</th>\n",
              "      <td id=\"T_b25a2_row1_col0\" class=\"data row1 col0\" >conv_pool_01.0.bias</td>\n",
              "      <td id=\"T_b25a2_row1_col1\" class=\"data row1 col1\" >8</td>\n",
              "    </tr>\n",
              "    <tr>\n",
              "      <th id=\"T_b25a2_level0_row2\" class=\"row_heading level0 row2\" >2</th>\n",
              "      <td id=\"T_b25a2_row2_col0\" class=\"data row2 col0\" >conv_pool_02.0.weight</td>\n",
              "      <td id=\"T_b25a2_row2_col1\" class=\"data row2 col1\" >3200</td>\n",
              "    </tr>\n",
              "    <tr>\n",
              "      <th id=\"T_b25a2_level0_row3\" class=\"row_heading level0 row3\" >3</th>\n",
              "      <td id=\"T_b25a2_row3_col0\" class=\"data row3 col0\" >conv_pool_02.0.bias</td>\n",
              "      <td id=\"T_b25a2_row3_col1\" class=\"data row3 col1\" >16</td>\n",
              "    </tr>\n",
              "    <tr>\n",
              "      <th id=\"T_b25a2_level0_row4\" class=\"row_heading level0 row4\" >4</th>\n",
              "      <td id=\"T_b25a2_row4_col0\" class=\"data row4 col0\" >FC_01.weight</td>\n",
              "      <td id=\"T_b25a2_row4_col1\" class=\"data row4 col1\" >32768</td>\n",
              "    </tr>\n",
              "    <tr>\n",
              "      <th id=\"T_b25a2_level0_row5\" class=\"row_heading level0 row5\" >5</th>\n",
              "      <td id=\"T_b25a2_row5_col0\" class=\"data row5 col0\" >FC_01.bias</td>\n",
              "      <td id=\"T_b25a2_row5_col1\" class=\"data row5 col1\" >128</td>\n",
              "    </tr>\n",
              "    <tr>\n",
              "      <th id=\"T_b25a2_level0_row6\" class=\"row_heading level0 row6\" >6</th>\n",
              "      <td id=\"T_b25a2_row6_col0\" class=\"data row6 col0\" >FC_02.weight</td>\n",
              "      <td id=\"T_b25a2_row6_col1\" class=\"data row6 col1\" >8192</td>\n",
              "    </tr>\n",
              "    <tr>\n",
              "      <th id=\"T_b25a2_level0_row7\" class=\"row_heading level0 row7\" >7</th>\n",
              "      <td id=\"T_b25a2_row7_col0\" class=\"data row7 col0\" >FC_02.bias</td>\n",
              "      <td id=\"T_b25a2_row7_col1\" class=\"data row7 col1\" >64</td>\n",
              "    </tr>\n",
              "    <tr>\n",
              "      <th id=\"T_b25a2_level0_row8\" class=\"row_heading level0 row8\" >8</th>\n",
              "      <td id=\"T_b25a2_row8_col0\" class=\"data row8 col0\" >FC_03.weight</td>\n",
              "      <td id=\"T_b25a2_row8_col1\" class=\"data row8 col1\" >640</td>\n",
              "    </tr>\n",
              "    <tr>\n",
              "      <th id=\"T_b25a2_level0_row9\" class=\"row_heading level0 row9\" >9</th>\n",
              "      <td id=\"T_b25a2_row9_col0\" class=\"data row9 col0\" >FC_03.bias</td>\n",
              "      <td id=\"T_b25a2_row9_col1\" class=\"data row9 col1\" >10</td>\n",
              "    </tr>\n",
              "  </tbody>\n",
              "</table>\n"
            ],
            "text/plain": [
              "<pandas.io.formats.style.Styler at 0x7f70cbaa5910>"
            ]
          },
          "execution_count": 54,
          "metadata": {},
          "output_type": "execute_result"
        }
      ],
      "source": [
        "def count_params(model):\n",
        "  model_params = {\"Modules\": list(), \"Parameters\": list()}\n",
        "  total = {\"trainable\": 0, \"non_trainable\": 0} \n",
        "  for name, parameters in model.named_parameters():\n",
        "    param = parameters.numel()\n",
        "    if not parameters.requires_grad:\n",
        "      total[\"non_trainable\"] += param\n",
        "      continue\n",
        "    model_params[\"Modules\"].append(name)\n",
        "    model_params[\"Parameters\"].append(param)\n",
        "    total[\"trainable\"] += param\n",
        "  df = pd.DataFrame(model_params)\n",
        "  df = df.style.set_caption(f\"Total parameters: {total}\")\n",
        "  return df\n",
        "\n",
        "count_params(model)"
      ]
    },
    {
      "cell_type": "markdown",
      "metadata": {
        "id": "NiuVUxPy7dgW"
      },
      "source": [
        "## Training loop"
      ]
    },
    {
      "cell_type": "markdown",
      "metadata": {
        "id": "f7WvxiT27gmC"
      },
      "source": [
        "## Evaluate our model"
      ]
    },
    {
      "cell_type": "markdown",
      "metadata": {
        "id": "H4m6CwA37kty"
      },
      "source": [
        "## prediction on our model"
      ]
    },
    {
      "cell_type": "code",
      "execution_count": null,
      "metadata": {
        "id": "jZBwqJc57jvI"
      },
      "outputs": [],
      "source": []
    }
  ],
  "metadata": {
    "accelerator": "GPU",
    "colab": {
      "collapsed_sections": [],
      "name": "demo_pytorch_CNN.ipynb",
      "provenance": []
    },
    "kernelspec": {
      "display_name": "Python 3",
      "name": "python3"
    },
    "language_info": {
      "name": "python"
    }
  },
  "nbformat": 4,
  "nbformat_minor": 0
}
